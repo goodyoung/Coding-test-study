{
 "cells": [
  {
   "cell_type": "markdown",
   "id": "ba0b9887-f9b8-4545-8811-5737adbabe70",
   "metadata": {},
   "source": [
    "# 토마토\n",
    "\n",
    "https://www.acmicpc.net/problem/7576\n",
    "\n",
    "- Solve idea\n",
    "  - 상하좌우 토마토들을 모두 익게하므로 처음으로는 dfs 방법이 생각이 났다."
   ]
  },
  {
   "cell_type": "code",
   "execution_count": null,
   "id": "bb6a82c6-9135-4083-b4c1-e174ae0585c6",
   "metadata": {},
   "outputs": [],
   "source": [
    "import sys\n",
    "from collections import deque\n",
    "input=  sys.stdin.readline\n",
    "N,M = map(int,input().split())\n",
    "arr, riped= [], []\n",
    "\n",
    "for i in range(M): # 입력시 동시에 토마토 판별\n",
    "    input_list = list(map(int,input().split()))\n",
    "    for j in range(N):\n",
    "        if input_list[j] ==1:\n",
    "            riped.append((i,j,0))\n",
    "    arr.append(input_list)\n",
    "\n",
    "d = [(0,1),(0,-1),(1,0),(-1,0)]\n",
    "\n",
    "max_cnt = 0\n",
    "q = deque(riped)\n",
    "while q:\n",
    "    i,j,cnt = q.popleft()\n",
    "    for x,y in d:\n",
    "        a, b = x+i, y+j\n",
    "        if 0 <= a < M and 0 <= b < N and arr[a][b]==0:\n",
    "            arr[a][b] = cnt +1 # cnt를 추가\n",
    "            q.append((a,b,cnt+1))\n",
    "            max_cnt = max(arr[a][b],max_cnt) # 가장 큰 값 판별, 사실 없어도 된다? -> 더 좋은 코드가 있을듯\n",
    "\n",
    "flag = 1\n",
    "for i in range(M):\n",
    "    for j in range(N):\n",
    "        if flag and not arr[i][j]:\n",
    "            flag = 0\n",
    "            break # break\n",
    "if flag:\n",
    "    print(max_cnt)\n",
    "else:\n",
    "    print(-1)"
   ]
  }
 ],
 "metadata": {
  "kernelspec": {
   "display_name": "Python 3 (ipykernel)",
   "language": "python",
   "name": "python3"
  },
  "language_info": {
   "codemirror_mode": {
    "name": "ipython",
    "version": 3
   },
   "file_extension": ".py",
   "mimetype": "text/x-python",
   "name": "python",
   "nbconvert_exporter": "python",
   "pygments_lexer": "ipython3",
   "version": "3.11.5"
  }
 },
 "nbformat": 4,
 "nbformat_minor": 5
}
