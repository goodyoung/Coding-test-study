{
 "cells": [
  {
   "cell_type": "markdown",
   "id": "1b836273-192f-4094-885a-c77e89d79a96",
   "metadata": {},
   "source": [
    "# 스킬 트리\n",
    "\n",
    "https://school.programmers.co.kr/learn/courses/30/lessons/49993\n",
    "\n",
    "- Solve idea\n",
    "  - skill에 들어가면 그 것이 선수 스킬에 맞는지 확인하고 맞으면 step +=1\n",
    "  - **근데 skill에 들어가지만 선수 스킬 순서랑 아닌 것이 문제!**\n",
    "  - 이 경우일 때만 answer를 증가시키지 않게 함\n",
    "\n",
    "문제 조건 대로 구현하는 구현문제 인 것 같다."
   ]
  },
  {
   "cell_type": "code",
   "execution_count": null,
   "id": "1aafa32f-aaa4-4079-8792-a78eb3ddcba4",
   "metadata": {},
   "outputs": [],
   "source": [
    "def solution(skill, skill_trees):\n",
    "    answer = 0\n",
    "    for skill_tree in skill_trees:\n",
    "        step, flag = 0,0\n",
    "        for i in skill_tree:\n",
    "            if i in skill: # skill_tree 중 skill에 포함이 되면 \n",
    "                if i == skill[step]: \n",
    "                    step += 1\n",
    "                else: # 스킬 트리를 넘어 섬 (문제)\n",
    "                    flag = 1\n",
    "        if not flag:\n",
    "            answer += 1\n",
    "    return answer"
   ]
  }
 ],
 "metadata": {
  "kernelspec": {
   "display_name": "Python 3 (ipykernel)",
   "language": "python",
   "name": "python3"
  },
  "language_info": {
   "codemirror_mode": {
    "name": "ipython",
    "version": 3
   },
   "file_extension": ".py",
   "mimetype": "text/x-python",
   "name": "python",
   "nbconvert_exporter": "python",
   "pygments_lexer": "ipython3",
   "version": "3.11.5"
  }
 },
 "nbformat": 4,
 "nbformat_minor": 5
}
