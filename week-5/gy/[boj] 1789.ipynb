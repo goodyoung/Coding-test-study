{
 "cells": [
  {
   "cell_type": "markdown",
   "id": "4b7c3b55-37f2-4b7b-9bfa-e57d743a6085",
   "metadata": {},
   "source": [
    "# 수들의 합\n",
    "\n",
    "https://www.acmicpc.net/problem/1789\n",
    "\n",
    "- Solve idea\n",
    "  - 가장 작은 수들부터 쌓아 나가고 커지면 끝"
   ]
  },
  {
   "cell_type": "code",
   "execution_count": 12,
   "id": "c85adf3e-f601-46a1-8803-f3ee2e6a77ed",
   "metadata": {},
   "outputs": [
    {
     "name": "stdout",
     "output_type": "stream",
     "text": [
      "19\n"
     ]
    }
   ],
   "source": [
    "N = int(input())\n",
    "s = 0\n",
    "cnt = 0\n",
    "num = 1\n",
    "while True:\n",
    "    s += num\n",
    "    cnt += 1\n",
    "    if s + num > N:\n",
    "        print(cnt)\n",
    "        break\n",
    "    num += 1"
   ]
  }
 ],
 "metadata": {
  "kernelspec": {
   "display_name": "Python 3 (ipykernel)",
   "language": "python",
   "name": "python3"
  },
  "language_info": {
   "codemirror_mode": {
    "name": "ipython",
    "version": 3
   },
   "file_extension": ".py",
   "mimetype": "text/x-python",
   "name": "python",
   "nbconvert_exporter": "python",
   "pygments_lexer": "ipython3",
   "version": "3.11.5"
  }
 },
 "nbformat": 4,
 "nbformat_minor": 5
}
