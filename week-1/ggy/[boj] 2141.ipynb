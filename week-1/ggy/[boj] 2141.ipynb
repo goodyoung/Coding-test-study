{
 "cells": [
  {
   "cell_type": "markdown",
<<<<<<< HEAD
   "id": "fa25672f-beff-413c-bf28-d7f9705296b0",
=======
   "id": "9aee46d6-8d7f-428f-84d8-a3574c43c899",
>>>>>>> b41b2d0c3309fab34b696bc0d329757f5362680f
   "metadata": {},
   "source": [
    "# 우체국\n",
    "\n",
    "https://www.acmicpc.net/problem/2141\n",
    "\n",
    "- Solve idea\n",
<<<<<<< HEAD
    "  - 하나하나 다 확인하는 방법을 시도하였다. -> O(N^2)이 나와서 시간이 터진다.\n",
    "  - `정답을 확인함`\n",
=======
    "    - 하나하나 다 확인하는 방법을 시도하였다. -> O(N^2)이 나와서 시간이 터진다.\n",
    "    - 정답을 확인함\n",
>>>>>>> b41b2d0c3309fab34b696bc0d329757f5362680f
    "    - 마을 기준으로 정렬을 한 후 총 사람을 반을 넘었을 때 그 때가 정답이다."
   ]
  },
  {
   "cell_type": "markdown",
<<<<<<< HEAD
   "id": "122b6f71-cbc1-4213-8ad7-5c1fa3297b97",
=======
   "id": "16932197-9d06-4d83-9f5f-b26069eaacfb",
>>>>>>> b41b2d0c3309fab34b696bc0d329757f5362680f
   "metadata": {
    "jp-MarkdownHeadingCollapsed": true
   },
   "source": [
    "### 첫 시도"
   ]
  },
  {
   "cell_type": "code",
   "execution_count": null,
<<<<<<< HEAD
   "id": "c128fe98-a907-4672-aaef-866bce995438",
=======
   "id": "06de54ac-794a-4771-903f-dae9fa0671d6",
>>>>>>> b41b2d0c3309fab34b696bc0d329757f5362680f
   "metadata": {},
   "outputs": [],
   "source": [
    "import sys\n",
    "input = sys.stdin.readline\n",
<<<<<<< HEAD
    "n = int(input())"
   ]
  },
  {
   "cell_type": "code",
   "execution_count": null,
   "id": "b3e7e74e-97fa-46ab-a209-378101062c3f",
   "metadata": {},
   "outputs": [],
   "source": [
=======
    "n = int(input())\n",
    "\n",
>>>>>>> b41b2d0c3309fab34b696bc0d329757f5362680f
    "n = 3\n",
    "town = []\n",
    "people =  0\n",
    "for i in range(n):\n",
    "    x,a = map(int,input().split())\n",
    "    town.append((x,a))\n",
<<<<<<< HEAD
    "    people += a"
   ]
  },
  {
   "cell_type": "code",
   "execution_count": 22,
   "id": "552b565a-6cac-4036-aafa-a9847f198c5b",
   "metadata": {},
   "outputs": [],
   "source": [
    "town.sort(key = lambda x: x[0], reverse = True)"
   ]
  },
  {
   "cell_type": "code",
   "execution_count": 31,
   "id": "eef29575-12d5-474c-a17c-eec774e3410f",
   "metadata": {},
   "outputs": [],
   "source": [
=======
    "    people += a\n",
    "\n",
    "town.sort(key = lambda x: x[0], reverse = True)\n",
    "\n",
>>>>>>> b41b2d0c3309fab34b696bc0d329757f5362680f
    "result = 1e9\n",
    "for i in range(n):\n",
    "    s = 0\n",
    "    for j in town:\n",
    "        if town[i][0]==j[0]:\n",
    "            continue\n",
    "        else: # town[i][0]!=j[0]:\n",
    "            loss = abs(town[i][0] - j[0])\n",
    "            s += (loss*j[1])\n",
    "\n",
    "        if result > s:\n",
    "            result = town[i][0]"
   ]
  },
  {
   "cell_type": "markdown",
<<<<<<< HEAD
   "id": "98c5b908-3ade-4b5f-8d79-102665ed6766",
=======
   "id": "ac22b507-ed2b-40c2-b32a-159ab533065f",
>>>>>>> b41b2d0c3309fab34b696bc0d329757f5362680f
   "metadata": {
    "jp-MarkdownHeadingCollapsed": true
   },
   "source": [
    "### 정답"
   ]
  },
  {
   "cell_type": "code",
   "execution_count": null,
<<<<<<< HEAD
   "id": "034bbe36-f32e-4bab-8a5a-02e6b79ff1b1",
=======
   "id": "a5cb37a5-00ee-4475-aa9d-2bd2dd271e0b",
>>>>>>> b41b2d0c3309fab34b696bc0d329757f5362680f
   "metadata": {},
   "outputs": [],
   "source": [
    "import sys\n",
    "input = sys.stdin.readline\n",
    "n = int(input())\n",
<<<<<<< HEAD
=======
    "\n",
    "n = 3\n",
>>>>>>> b41b2d0c3309fab34b696bc0d329757f5362680f
    "town = []\n",
    "people =  0\n",
    "for i in range(n):\n",
    "    x,a = map(int,input().split())\n",
    "    town.append((x,a))\n",
    "    people += a\n",
<<<<<<< HEAD
    "    \n",
    "town.sort(key = lambda x: x[0])\n",
    "\n",
    "a =0\n",
    "for idx, val in town:\n",
    "    a += val\n",
    "    if a >= people / 2:\n",
    "        print(idx)\n",
    "        break"
=======
    "\n",
    "town.sort(key = lambda x: x[0], reverse = True)\n",
    "\n",
    "result = 1e9\n",
    "for i in range(n):\n",
    "    s = 0\n",
    "    for j in town:\n",
    "        if town[i][0]==j[0]:\n",
    "            continue\n",
    "        else: # town[i][0]!=j[0]:\n",
    "            loss = abs(town[i][0] - j[0])\n",
    "            s += (loss*j[1])\n",
    "\n",
    "        if result > s:\n",
    "            result = town[i][0]"
>>>>>>> b41b2d0c3309fab34b696bc0d329757f5362680f
   ]
  }
 ],
 "metadata": {
  "kernelspec": {
   "display_name": "Python 3 (ipykernel)",
   "language": "python",
   "name": "python3"
  },
  "language_info": {
   "codemirror_mode": {
    "name": "ipython",
    "version": 3
   },
   "file_extension": ".py",
   "mimetype": "text/x-python",
   "name": "python",
   "nbconvert_exporter": "python",
   "pygments_lexer": "ipython3",
   "version": "3.11.5"
  }
 },
 "nbformat": 4,
 "nbformat_minor": 5
}
