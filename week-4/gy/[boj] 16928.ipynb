{
 "cells": [
  {
   "cell_type": "markdown",
   "id": "29afa171-84a1-4381-a76d-b19168e2e426",
   "metadata": {},
   "source": [
    "# 뱀과 사다리 게임\n",
    "\n",
    "https://www.acmicpc.net/problem/16928\n",
    "- 100번 칸 넘어가면 X\n",
    "- 칸이 사다리이면 사다리 타고 위\n",
    "  - 어떤 숫자 만큼 올라감\n",
    "- 칸이 뱀이면 뱀을 따라서 내려감\n",
    "  - 어떤 숫자 만큼 내려감\n",
    "\n",
    "- Solve idea\n",
    "    - 최소 거리이므로 bfs로 풀어야겠다고 생각\n",
    "    - 100칸을 만들고(list) 칸에 뱀과 사다리 수를 넣고 숫자가 있으면 그 단계로 이동하는 방식\n",
    "    - 주사위를 굴리고 최소 거리이므로 그 후 처리(방문 처리)등이 중요하다고 생각\n",
    "    - 방문 여부를 검사하고 다시 뱀과 사다리에 포함이 되는지 검사하고, 다시 그 숫자가 뱀과 사다리에 포함이 되는지 검사.\n",
    "    - 제일 마지막에 한 번더 방문 여부를 검사하고 종료하는 방식"
   ]
  },
  {
   "cell_type": "code",
   "execution_count": null,
   "id": "58ea1f3c-9c06-4060-b8a0-4665cfe44f11",
   "metadata": {},
   "outputs": [],
   "source": [
    "import sys\n",
    "from collections import deque\n",
    "input = sys.stdin.readline\n",
    "\n",
    "N,M = map(int,input().split())\n",
    "arr =  [0 for _ in range(101)]\n",
    "visited =  [0 for _ in range(101)]\n",
    "\n",
    "for _ in range(N+M):\n",
    "    a,b = map(int,input().split())\n",
    "    arr[a] = b\n",
    "    \n",
    "def bfs():\n",
    "    q = deque([1]) # 첫 시작\n",
    "    visited[1] = 0\n",
    "    while q:\n",
    "        cur = q.popleft()\n",
    "        if visited[100]:\n",
    "            print(visited[100])\n",
    "            return\n",
    "\n",
    "        for dice_num in range(1,7): # 주사위 굴리기 (1~6)\n",
    "            x = cur + dice_num\n",
    "            if x <= 100 and not visited[x]:\n",
    "                if arr[x]:\n",
    "                    num = arr[x]\n",
    "                    if arr[num]:\n",
    "                        num = arr[num]\n",
    "                else:\n",
    "                    num = x\n",
    "                q.append(num)\n",
    "                if not visited[num]:\n",
    "                    visited[num] = visited[cur]+1\n",
    "\n",
    "bfs()"
   ]
  }
 ],
 "metadata": {
  "kernelspec": {
   "display_name": "Python 3 (ipykernel)",
   "language": "python",
   "name": "python3"
  },
  "language_info": {
   "codemirror_mode": {
    "name": "ipython",
    "version": 3
   },
   "file_extension": ".py",
   "mimetype": "text/x-python",
   "name": "python",
   "nbconvert_exporter": "python",
   "pygments_lexer": "ipython3",
   "version": "3.11.5"
  }
 },
 "nbformat": 4,
 "nbformat_minor": 5
}
