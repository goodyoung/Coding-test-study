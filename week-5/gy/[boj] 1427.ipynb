{
 "cells": [
  {
   "cell_type": "markdown",
   "id": "bd48e1a4-f778-4c78-aff0-c3c84f33045c",
   "metadata": {},
   "source": [
    "# 소트인사이드\n",
    "\n",
    "https://www.acmicpc.net/problem/1427\n",
    "\n",
    "- Solve idea\n",
    "  - 문자열로 변환하여 내림차순으로 정렬하면 될 것 같다"
   ]
  },
  {
   "cell_type": "code",
   "execution_count": 1,
   "id": "cba28a7f-9c48-4195-b30a-2d7e9d31c54c",
   "metadata": {},
   "outputs": [],
   "source": [
    "import sys\n",
    "input = sys.stdin.readline\n",
    "N = list(input().rstrip())\n",
    "print(int(''.join(sorted(N,reverse=True))))"
   ]
  }
 ],
 "metadata": {
  "kernelspec": {
   "display_name": "Python 3 (ipykernel)",
   "language": "python",
   "name": "python3"
  },
  "language_info": {
   "codemirror_mode": {
    "name": "ipython",
    "version": 3
   },
   "file_extension": ".py",
   "mimetype": "text/x-python",
   "name": "python",
   "nbconvert_exporter": "python",
   "pygments_lexer": "ipython3",
   "version": "3.11.5"
  }
 },
 "nbformat": 4,
 "nbformat_minor": 5
}
