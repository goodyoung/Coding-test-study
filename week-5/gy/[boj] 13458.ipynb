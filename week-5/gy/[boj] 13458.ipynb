{
 "cells": [
  {
   "cell_type": "markdown",
   "id": "0ff585a0-d934-419b-9996-7268df4390f3",
   "metadata": {},
   "source": [
    "# 시험 감독\n",
    "\n",
    "https://www.acmicpc.net/problem/13458\n",
    "\n",
    "- Solve idea\n",
    "  - 총감독관을 먼저 계산하고 나머지를 부감독관으로 계산 한다."
   ]
  },
  {
   "cell_type": "code",
   "execution_count": 33,
   "id": "947276c0-9545-43f5-b64f-9d8a7007afaa",
   "metadata": {},
   "outputs": [
    {
     "name": "stdout",
     "output_type": "stream",
     "text": [
      "13\n"
     ]
    }
   ],
   "source": [
    "import sys\n",
    "input = sys.stdin.readline\n",
    "N = int(input())\n",
    "arr = list(map(int,input().split()))\n",
    "B,C = map(int,input().split())\n",
    "\n",
    "result = 0\n",
    "for num in arr:\n",
    "    if num > B:\n",
    "        num -= B\n",
    "        result += 1\n",
    "        rest = num % C\n",
    "        result += num // C\n",
    "        if rest:\n",
    "            result += 1\n",
    "    else: # 총감독관으로 커버가 가능 할 경우\n",
    "        result += 1\n",
    "print(result)"
   ]
  }
 ],
 "metadata": {
  "kernelspec": {
   "display_name": "Python 3 (ipykernel)",
   "language": "python",
   "name": "python3"
  },
  "language_info": {
   "codemirror_mode": {
    "name": "ipython",
    "version": 3
   },
   "file_extension": ".py",
   "mimetype": "text/x-python",
   "name": "python",
   "nbconvert_exporter": "python",
   "pygments_lexer": "ipython3",
   "version": "3.11.5"
  }
 },
 "nbformat": 4,
 "nbformat_minor": 5
}
