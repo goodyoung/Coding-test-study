{
 "cells": [
  {
   "cell_type": "markdown",
   "id": "8114f1e4-417f-418f-91ac-3b68616493f2",
   "metadata": {},
   "source": [
    "# DFS와 BFS\n",
    "\n",
    "https://www.acmicpc.net/problem/1260\n",
    "\n",
    "- Solve idea\n",
    "  - dfs와 bfs의 기본적인 개념을 다잡기 좋은 문제"
   ]
  },
  {
   "cell_type": "code",
   "execution_count": null,
   "id": "e66dad4d-6f1c-4a29-a485-afd3259c8ab7",
   "metadata": {},
   "outputs": [],
   "source": [
    "import sys\n",
    "from collections import deque\n",
    "\n",
    "input = sys.stdin.readline\n",
    "N, M, V = map(int,input().split())\n",
    "arr = [[] for _ in range(N+1)]\n",
    "\n",
    "for _ in range(M):\n",
    "    a,b = map(int,input().split())\n",
    "    arr[a].append(b)\n",
    "    arr[b].append(a)\n",
    "    \n",
    "for i in arr:\n",
    "    i.sort()\n",
    "    \n",
    "def dfs(num):\n",
    "    for i in arr[num]:\n",
    "        if not visited[i]:\n",
    "            visited[i] = 1\n",
    "            print(i, end = ' ')\n",
    "            dfs(i)\n",
    "            \n",
    "def bfs(num):\n",
    "    q = deque()\n",
    "    q.append(num)\n",
    "    print(num, end=' ')\n",
    "    while q:\n",
    "        x = q.popleft()\n",
    "        visited[x] = 1        \n",
    "        for i in arr[x]:\n",
    "            if not visited[i]:\n",
    "                q.append(i)\n",
    "                visited[i] = 1\n",
    "                print(i, end=' ')\n",
    "                \n",
    "visited=[0]*(N+1)\n",
    "print(V, end= ' ')\n",
    "visited[V] = 1\n",
    "dfs(V)\n",
    "visited=[0]*(N+1)\n",
    "print()\n",
    "bfs(V)"
   ]
  }
 ],
 "metadata": {
  "kernelspec": {
   "display_name": "Python 3 (ipykernel)",
   "language": "python",
   "name": "python3"
  },
  "language_info": {
   "codemirror_mode": {
    "name": "ipython",
    "version": 3
   },
   "file_extension": ".py",
   "mimetype": "text/x-python",
   "name": "python",
   "nbconvert_exporter": "python",
   "pygments_lexer": "ipython3",
   "version": "3.11.5"
  }
 },
 "nbformat": 4,
 "nbformat_minor": 5
}
