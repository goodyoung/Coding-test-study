{
 "cells": [
  {
   "cell_type": "markdown",
   "id": "e43310b1-d59e-4b9d-aa13-3434b5842b0a",
   "metadata": {},
   "source": [
    "# 큰 수 만들기\n",
    "\n",
    "https://school.programmers.co.kr/learn/courses/30/lessons/42883\n",
    "\n",
    "- Solve idea\n",
    "  - 실패\n",
    "      - 숫자를 받고 정렬을 한 후 k개를 제외한 남은 숫자(number-k) 개수를 구한다\n",
    "      - 그 숫자를 포함한 자리수부터 가장 큰 값을 구한 뒤 그 숫자를 -1 을 시킴\n",
    "      - 이것을 반복\n",
    "      O(N^2)의 풀이. 또 다른 실패 풀이로 조합의 풀이가 있음.\n",
    "  - 성공\n",
    "    **그럼 O(N)이나 NlogN? 정도의 알고리즘이 필요함.**\n",
    "    - 무조건 자리수는 number-k개가 유지 된다.\n",
    "    - **큰 수를 만들려면 맨 앞에 제일 큰 수가 오면 된다.**\n",
    "      - 이게 `그리디`의 성질을 띄고 있다.\n",
    "    - 현재의 수가 다음 수보다 적으면 k를 빼고 현재의 수 빼고 다음 수를 넣는다.\n",
    "    - 반복"
   ]
  },
  {
   "cell_type": "markdown",
   "id": "8dfdafab-dce0-4bc5-b23f-9a501ae09ae6",
   "metadata": {},
   "source": [
    "#### 실패 코드"
   ]
  },
  {
   "cell_type": "code",
   "execution_count": 102,
   "id": "3b41a2a9-de5b-4623-938c-99a739f63f5e",
   "metadata": {},
   "outputs": [],
   "source": [
    "def solution(number, k):\n",
    "    answer = ''\n",
    "    k = len(number) - k\n",
    "    if k != 1:\n",
    "        flag = 0\n",
    "        while k > 0:\n",
    "            s = 0\n",
    "            idx = 0\n",
    "            if k == 1:\n",
    "                answer += number[-1]\n",
    "                break\n",
    "                \n",
    "            for i in range(flag,len(number)-k+1):\n",
    "                if int(number[i])> int(s):\n",
    "                    s = number[i]\n",
    "                    idx = i\n",
    "            answer += s\n",
    "            flag = idx + 1\n",
    "            k -= 1\n",
    "    else:\n",
    "        answer = max(number)        \n",
    "    return answer"
   ]
  },
  {
   "cell_type": "code",
   "execution_count": 103,
   "id": "be35ca77-6d10-418e-b6d0-fb9213ee2e6d",
   "metadata": {},
   "outputs": [
    {
     "data": {
      "text/plain": [
       "'925'"
      ]
     },
     "execution_count": 103,
     "metadata": {},
     "output_type": "execute_result"
    }
   ],
   "source": [
    "solution(\"19125\",2)"
   ]
  },
  {
   "cell_type": "markdown",
   "id": "ee4380be-d188-4cde-9588-3c89cb1ece8a",
   "metadata": {},
   "source": [
    "#### 성공 코드"
   ]
  },
  {
   "cell_type": "code",
   "execution_count": 246,
   "id": "48616225-4e14-4b48-ae85-13111474db04",
   "metadata": {},
   "outputs": [],
   "source": [
    "def solution(number, k):\n",
    "    answer = []\n",
    "    \n",
    "    for i in number:\n",
    "        if not answer:\n",
    "            answer.append(i)\n",
    "        else:\n",
    "            while k > 0:\n",
    "                if not answer:\n",
    "                    break\n",
    "                pop_num = int(answer.pop())\n",
    "                if pop_num < int(i):\n",
    "                    \n",
    "                    k -= 1\n",
    "                else:\n",
    "                    answer.append(str(pop_num))\n",
    "                    break\n",
    "            answer.append(i)\n",
    "    answer=answer[:len(answer)-k]\n",
    "    return ''.join(answer)"
   ]
  }
 ],
 "metadata": {
  "kernelspec": {
   "display_name": "Python 3 (ipykernel)",
   "language": "python",
   "name": "python3"
  },
  "language_info": {
   "codemirror_mode": {
    "name": "ipython",
    "version": 3
   },
   "file_extension": ".py",
   "mimetype": "text/x-python",
   "name": "python",
   "nbconvert_exporter": "python",
   "pygments_lexer": "ipython3",
   "version": "3.11.5"
  }
 },
 "nbformat": 4,
 "nbformat_minor": 5
}
