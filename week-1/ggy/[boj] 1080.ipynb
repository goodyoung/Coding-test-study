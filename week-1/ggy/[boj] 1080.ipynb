{
 "cells": [
  {
   "cell_type": "markdown",
   "id": "0ba6cf17-f8cc-4a51-a8f8-e860100bfb86",
   "metadata": {},
   "source": [
    "# 행렬\n",
    "\n",
    "https://www.acmicpc.net/problem/1080\n",
    "\n",
    "- Solve idea\n",
    "  - 연산 횟수의 최솟값 -> 그리디?\n",
    "    - 그렇다면 어떤 연산이 최솟값을 만족할까?\n",
    "    - 가장 큰 부분 행렬로 연산을 하면 그것이 최솟값이다.\n",
    "    - N,M은 50 -> 2500 (2초) N^2 연산도 가능할 것 이다.\n",
    "    - 가장 큰 행렬부터 부분 행렬을 정하고 연산을 하여 만족하면 끝..?\n",
    "  - 작은 부분부터 부분 행렬을 잡으면서 0과 1을 변환\n",
    "    - 정답과 다르면 break\n",
    "---\n",
    "  - **부분 행렬이 (3*3)으로 고정되어 있다는 사실을 깨달음...**\n",
    "  - 그냥 다 일일이 3*3으로 변환하는 방법 밖에 없는 것 같은데?\n",
    "    - 최적의 요소는 각각이 처음부터 돌면서 다르면 바꾸는게 제일 최소이다.\n",
    "  - 문제를 잘 읽자...."
   ]
  },
  {
   "cell_type": "code",
   "execution_count": null,
   "id": "e0a08480-466f-44d7-a5aa-7b26aae4c785",
   "metadata": {},
   "outputs": [],
   "source": [
    "import sys\n",
    "input = sys.stdin.readline\n",
    "N, M = map(int,input().split())\n",
    "a = [list(map(int,input().rstrip())) for _ in range(N)]\n",
    "b = [list(map(int,input().rstrip())) for _ in range(N)]\n",
    "# 모든 행렬 돈다\n",
    "cnt = 0\n",
    "for i in range(N-2):\n",
    "    for j in range(M-2):\n",
    "        if a[i][j] != b[i][j]: # 다를 경우 -> 변환해줌\n",
    "            cnt += 1\n",
    "            for x in range(3):\n",
    "                for y in range(3):\n",
    "                    if a[i+x][j+y] == 1:\n",
    "                        a[i+x][j+y] = 0\n",
    "                    else:\n",
    "                        a[i+x][j+y] = 1\n",
    "for i in range(N):\n",
    "    for j in range(M):\n",
    "        if a[i][j] != b[i][j]:\n",
    "            cnt = -1\n",
    "print(cnt)"
   ]
  },
  {
   "cell_type": "code",
   "execution_count": null,
   "id": "857c2598-4e89-4e74-99d2-959f749776fa",
   "metadata": {},
   "outputs": [],
   "source": []
  }
 ],
 "metadata": {
  "kernelspec": {
   "display_name": "Python 3 (ipykernel)",
   "language": "python",
   "name": "python3"
  },
  "language_info": {
   "codemirror_mode": {
    "name": "ipython",
    "version": 3
   },
   "file_extension": ".py",
   "mimetype": "text/x-python",
   "name": "python",
   "nbconvert_exporter": "python",
   "pygments_lexer": "ipython3",
   "version": "3.11.5"
  }
 },
 "nbformat": 4,
 "nbformat_minor": 5
}
