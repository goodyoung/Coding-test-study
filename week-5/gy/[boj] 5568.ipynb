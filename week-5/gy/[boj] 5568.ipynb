{
 "cells": [
  {
   "cell_type": "markdown",
   "id": "ecdb04f0-9ace-4917-a0e3-d800e79470d3",
   "metadata": {},
   "source": [
    "# 카드 놓기\n",
    "\n",
    "https://www.acmicpc.net/problem/5568\n",
    "\n",
    "- Solve idea\n",
    "  - 순열로 조합을 다 만들고 그것을 딕셔너리에 넣어서 중복 제거"
   ]
  },
  {
   "cell_type": "markdown",
   "id": "5062a6b3-16d7-4a42-bca7-2339c1d5f0e8",
   "metadata": {},
   "source": [
    "### 첫번째 시도"
   ]
  },
  {
   "cell_type": "code",
   "execution_count": null,
   "id": "2b8123b9-2568-42c4-a5d7-24aa3bafd31b",
   "metadata": {},
   "outputs": [],
   "source": [
    "import sys\n",
    "from itertools import permutations\n",
    "input = sys.stdin.readline\n",
    "\n",
    "n = int(input())\n",
    "k = int(input())\n",
    "arr = [input().rstrip() for _ in range(n)]\n",
    "result = {}\n",
    "\n",
    "possibility = permutations(arr,k)\n",
    "for poss in possibility:\n",
    "    num = ''.join(poss)\n",
    "    if num not in result:\n",
    "        result[num] = 1\n",
    "print(len(result))"
   ]
  },
  {
   "cell_type": "markdown",
   "id": "f54d33ee-3631-4ded-aa86-070d4df3af18",
   "metadata": {},
   "source": [
    "### 두번째 시도"
   ]
  },
  {
   "cell_type": "code",
   "execution_count": null,
   "id": "bcbe1d7f-ee7c-44e3-bf66-8a434532ce71",
   "metadata": {},
   "outputs": [],
   "source": [
    "import sys\n",
    "from itertools import permutations\n",
    "n = int(input())\n",
    "k = int(input())\n",
    "arr = [input().rstrip() for _ in range(n)]\n",
    "possibility = permutations(arr,k)\n",
    "print(len(set(list(map(''.join,possibility)))))"
   ]
  }
 ],
 "metadata": {
  "kernelspec": {
   "display_name": "Python 3 (ipykernel)",
   "language": "python",
   "name": "python3"
  },
  "language_info": {
   "codemirror_mode": {
    "name": "ipython",
    "version": 3
   },
   "file_extension": ".py",
   "mimetype": "text/x-python",
   "name": "python",
   "nbconvert_exporter": "python",
   "pygments_lexer": "ipython3",
   "version": "3.11.5"
  }
 },
 "nbformat": 4,
 "nbformat_minor": 5
}
