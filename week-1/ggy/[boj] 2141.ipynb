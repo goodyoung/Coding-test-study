{
 "cells": [
  {
   "cell_type": "markdown",
   "id": "9aee46d6-8d7f-428f-84d8-a3574c43c899",
   "metadata": {},
   "source": [
    "# 우체국\n",
    "\n",
    "https://www.acmicpc.net/problem/2141\n",
    "\n",
    "- Solve idea\n",
    "    - 하나하나 다 확인하는 방법을 시도하였다. -> O(N^2)이 나와서 시간이 터진다.\n",
    "    - 정답을 확인함\n",
    "    - 마을 기준으로 정렬을 한 후 총 사람을 반을 넘었을 때 그 때가 정답이다."
   ]
  },
  {
   "cell_type": "markdown",
   "id": "16932197-9d06-4d83-9f5f-b26069eaacfb",
   "metadata": {
    "jp-MarkdownHeadingCollapsed": true
   },
   "source": [
    "### 첫 시도"
   ]
  },
  {
   "cell_type": "code",
   "execution_count": null,
   "id": "06de54ac-794a-4771-903f-dae9fa0671d6",
   "metadata": {},
   "outputs": [],
   "source": [
    "import sys\n",
    "input = sys.stdin.readline\n",
    "n = int(input())\n",
    "\n",
    "n = 3\n",
    "town = []\n",
    "people =  0\n",
    "for i in range(n):\n",
    "    x,a = map(int,input().split())\n",
    "    town.append((x,a))\n",
    "    people += a\n",
    "\n",
    "town.sort(key = lambda x: x[0], reverse = True)\n",
    "\n",
    "result = 1e9\n",
    "for i in range(n):\n",
    "    s = 0\n",
    "    for j in town:\n",
    "        if town[i][0]==j[0]:\n",
    "            continue\n",
    "        else: # town[i][0]!=j[0]:\n",
    "            loss = abs(town[i][0] - j[0])\n",
    "            s += (loss*j[1])\n",
    "\n",
    "        if result > s:\n",
    "            result = town[i][0]"
   ]
  },
  {
   "cell_type": "markdown",
   "id": "ac22b507-ed2b-40c2-b32a-159ab533065f",
   "metadata": {
    "jp-MarkdownHeadingCollapsed": true
   },
   "source": [
    "### 정답"
   ]
  },
  {
   "cell_type": "code",
   "execution_count": null,
   "id": "a5cb37a5-00ee-4475-aa9d-2bd2dd271e0b",
   "metadata": {},
   "outputs": [],
   "source": [
    "import sys\n",
    "input = sys.stdin.readline\n",
    "n = int(input())\n",
    "\n",
    "n = 3\n",
    "town = []\n",
    "people =  0\n",
    "for i in range(n):\n",
    "    x,a = map(int,input().split())\n",
    "    town.append((x,a))\n",
    "    people += a\n",
    "\n",
    "town.sort(key = lambda x: x[0], reverse = True)\n",
    "\n",
    "result = 1e9\n",
    "for i in range(n):\n",
    "    s = 0\n",
    "    for j in town:\n",
    "        if town[i][0]==j[0]:\n",
    "            continue\n",
    "        else: # town[i][0]!=j[0]:\n",
    "            loss = abs(town[i][0] - j[0])\n",
    "            s += (loss*j[1])\n",
    "\n",
    "        if result > s:\n",
    "            result = town[i][0]"
   ]
  }
 ],
 "metadata": {
  "kernelspec": {
   "display_name": "Python 3 (ipykernel)",
   "language": "python",
   "name": "python3"
  },
  "language_info": {
   "codemirror_mode": {
    "name": "ipython",
    "version": 3
   },
   "file_extension": ".py",
   "mimetype": "text/x-python",
   "name": "python",
   "nbconvert_exporter": "python",
   "pygments_lexer": "ipython3",
   "version": "3.11.5"
  }
 },
 "nbformat": 4,
 "nbformat_minor": 5
}
