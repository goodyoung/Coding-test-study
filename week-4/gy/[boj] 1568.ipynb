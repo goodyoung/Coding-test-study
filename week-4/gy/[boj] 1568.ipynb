{
 "cells": [
  {
   "cell_type": "markdown",
   "id": "47038b06-b624-4a8a-9150-42eb8b6fe838",
   "metadata": {},
   "source": [
    "# 새\n",
    "\n",
    "https://www.acmicpc.net/problem/1568\n",
    "\n",
    "- Solve idea\n",
    "  - 1초 마다 새 빼기\n",
    "  - 작으면 다시\n",
    "  - 무한 반복"
   ]
  },
  {
   "cell_type": "code",
   "execution_count": null,
   "id": "c5b4a598-cb1a-4903-97e8-140a979dfb38",
   "metadata": {},
   "outputs": [],
   "source": [
    "import sys\n",
    "input = sys.stdin.readline\n",
    "\n",
    "N = int(input())\n",
    "\n",
    "N = 100\n",
    "\n",
    "cnt = 0\n",
    "\n",
    "song = 1\n",
    "while N > 0:\n",
    "    if N - song >= 0:\n",
    "        N -= song\n",
    "        cnt += 1\n",
    "        song += 1\n",
    "    else:\n",
    "        song = 1\n",
    "    \n",
    "print(cnt)"
   ]
  }
 ],
 "metadata": {
  "kernelspec": {
   "display_name": "Python 3 (ipykernel)",
   "language": "python",
   "name": "python3"
  },
  "language_info": {
   "codemirror_mode": {
    "name": "ipython",
    "version": 3
   },
   "file_extension": ".py",
   "mimetype": "text/x-python",
   "name": "python",
   "nbconvert_exporter": "python",
   "pygments_lexer": "ipython3",
   "version": "3.11.5"
  }
 },
 "nbformat": 4,
 "nbformat_minor": 5
}
