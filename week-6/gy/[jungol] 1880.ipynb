{
 "cells": [
  {
   "cell_type": "markdown",
   "id": "e5e59f3a-1221-4b80-8644-77ddd8a00ea9",
   "metadata": {},
   "source": [
    "# 암호풀기\n",
    "\n",
    "https://jungol.co.kr/problem/1880?cursor=eyJwcm9ibGVtc2V0Ijo2LCJmaWVsZCI6NCwiaWR4IjozfQ%3D%3D\n",
    "\n",
    "- Solve idea\n",
    "  - 알파벳의 개수이므로 dict에 저장하여 매핑\n",
    "  - upper case만 구별"
   ]
  },
  {
   "cell_type": "code",
   "execution_count": null,
   "id": "0c7015f9-866d-4ed3-96f8-01c454837128",
   "metadata": {},
   "outputs": [],
   "source": [
    "import sys\n",
    "import string\n",
    "input = sys.stdin.readline\n",
    "key = input().rstrip()\n",
    "sentences = input().rstrip()\n",
    "lowercase = string.ascii_lowercase\n",
    "key_dict ={}\n",
    "for i in range(len(key)):\n",
    "    key_dict[lowercase[i]] = key[i]\n",
    "\n",
    "result = ''\n",
    "for i in sentences:\n",
    "    if i==' ':\n",
    "        result += ' '\n",
    "        continue\n",
    "        \n",
    "    if i.isupper():\n",
    "        result += key_dict[i.lower()].upper()\n",
    "    else:\n",
    "        result += key_dict[i]\n",
    "print(result)"
   ]
  }
 ],
 "metadata": {
  "kernelspec": {
   "display_name": "Python 3 (ipykernel)",
   "language": "python",
   "name": "python3"
  },
  "language_info": {
   "codemirror_mode": {
    "name": "ipython",
    "version": 3
   },
   "file_extension": ".py",
   "mimetype": "text/x-python",
   "name": "python",
   "nbconvert_exporter": "python",
   "pygments_lexer": "ipython3",
   "version": "3.11.5"
  }
 },
 "nbformat": 4,
 "nbformat_minor": 5
}
