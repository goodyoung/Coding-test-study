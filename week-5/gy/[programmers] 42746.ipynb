{
 "cells": [
  {
   "cell_type": "markdown",
   "id": "31b9b6f1-b0e5-430b-99a1-e265e41f1a66",
   "metadata": {},
   "source": [
    "# 가장 큰 수\n",
    "\n",
    "https://school.programmers.co.kr/learn/courses/30/lessons/42746\n",
    "\n",
    "- Solve idea\n",
    "  - 첫 시도는 순열로 모든 경우의 수를 비교하여 계산하는 방식을 선택하였다.\n",
    "  - 100_000개에 원소는 1000이하이므로 시간 초과가 났다\n",
    "  - 여러 시도를 해보다가 문제? 아님 해결 점을 발견하게 되었다\n",
    "    - 앞 자리만 정렬하는 것이 아니라 [37,3,34] 이 순서대로 정렬을 해야한다..\n",
    "    - 이 방법에 대한 아이디어가 떠오르지 않았다.\n",
    "- 보고 푼 방식\n",
    "  - 저렇게 해결하기 위한 방법으로는 문자열에 최대 크기 만큼 곱해서 사용하는 방식이다.\n",
    "  - **왜냐하면 파이썬의 문자열 정렬 방식은 문자열에서의 대소비교는 문자열 첫 번째 인덱스를 아스키 숫자로 바꿔 비교하고, 같으면 다음 인덱스를 비교하는 형식 이기 때문에!**"
   ]
  },
  {
   "cell_type": "code",
   "execution_count": null,
   "id": "45564d46-cd97-4f48-9e55-98cc07d8fed6",
   "metadata": {},
   "outputs": [],
   "source": [
    "def solution(numbers):\n",
    "    numbers = list(map(str,numbers))\n",
    "    numbers = sorted(numbers, key=lambda x: x*3, reverse = True)\n",
    "    return str(int(\"\".join(numbers)))"
   ]
  }
 ],
 "metadata": {
  "kernelspec": {
   "display_name": "Python 3 (ipykernel)",
   "language": "python",
   "name": "python3"
  },
  "language_info": {
   "codemirror_mode": {
    "name": "ipython",
    "version": 3
   },
   "file_extension": ".py",
   "mimetype": "text/x-python",
   "name": "python",
   "nbconvert_exporter": "python",
   "pygments_lexer": "ipython3",
   "version": "3.11.5"
  }
 },
 "nbformat": 4,
 "nbformat_minor": 5
}
