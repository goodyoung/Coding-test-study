{
 "cells": [
  {
   "cell_type": "markdown",
   "id": "982a778f-0361-4801-8201-71dc9060b2da",
   "metadata": {},
   "source": [
    "# 체육복\n",
    "\n",
    "https://school.programmers.co.kr/learn/courses/30/lessons/42862\n",
    "\n",
    "- Solve idea\n",
    "  - 일단 여벌이 있는데 도난당한 경우를 먼저 제외 시킴.\n",
    "  - 그 후 \"\"최대한 많은 학생이 체육수업을 들어야 한다면\"\" 자기 전(-1) 번호가 먼저 빌려주는 경우가 되어야 한다."
   ]
  },
  {
   "cell_type": "markdown",
   "id": "a7e7121c-90bd-401e-ac2b-f68900a73004",
   "metadata": {},
   "source": [
    "### 첫번째 코드"
   ]
  },
  {
   "cell_type": "code",
   "execution_count": null,
   "id": "4618fab6-3878-4e07-b48c-54159c565c17",
   "metadata": {},
   "outputs": [],
   "source": [
    "def solution(n, lost, reserve):\n",
    "    answer = 0\n",
    "    \n",
    "    # 여벌 체육복 가져온 학생이 도난당했을 경우\n",
    "    arr=[]\n",
    "    for student in lost:\n",
    "        if student in reserve:\n",
    "            reserve.remove(student)\n",
    "            arr.append(student)\n",
    "            \n",
    "    for i in arr:\n",
    "        lost.remove(i)\n",
    "            \n",
    "    lost.sort()\n",
    "    for student in lost:\n",
    "        if not reserve:\n",
    "            break\n",
    "            \n",
    "        if student-1 in reserve:\n",
    "            reserve.remove(student-1)\n",
    "            answer += 1\n",
    "        elif student+1 in reserve:\n",
    "            reserve.remove(student+1)\n",
    "            answer += 1\n",
    "            \n",
    "    return n-(len(lost)-answer)"
   ]
  },
  {
   "cell_type": "markdown",
   "id": "89f7825e-8a71-4063-859c-ce73a8188835",
   "metadata": {},
   "source": [
    "### 두번째 코드\n",
    "좀 더 정리"
   ]
  },
  {
   "cell_type": "code",
   "execution_count": 19,
   "id": "0a474a45-eeac-4d73-8ecc-720a344112fc",
   "metadata": {},
   "outputs": [],
   "source": [
    "def solution(n, lost, reserve):\n",
    "    answer = 0\n",
    "    \n",
    "    # 여벌 체육복 가져온 학생이 도난당했을 경우\n",
    "    students=[]\n",
    "    for student in lost:\n",
    "        if student in reserve:\n",
    "            students.append(student)\n",
    "            \n",
    "    for student in students:\n",
    "        reserve.remove(student)\n",
    "        lost.remove(student)\n",
    "        \n",
    "    # lost학생들 먼저 정렬 (최대한의 조건을 만족하기 위하여)\n",
    "    lost.sort()\n",
    "    \n",
    "    for student in lost:\n",
    "        if not reserve: # 비어있다면 종료\n",
    "            break\n",
    "            \n",
    "        # 전 번호가 먼저 빌려줄 경우를 먼저 계산\n",
    "        for num in [-1,+1]:\n",
    "            if student+num in reserve:\n",
    "                reserve.remove(student+num)\n",
    "                answer+=1\n",
    "                break\n",
    "                \n",
    "    return n-(len(lost)-answer)"
   ]
  },
  {
   "cell_type": "markdown",
   "id": "d94135e7-0093-4c64-8a94-18eade7c8d05",
   "metadata": {},
   "source": [
    "### 세번째 코드"
   ]
  },
  {
   "cell_type": "code",
   "execution_count": null,
   "id": "065f3de9-3704-4ed1-b037-b8db3e76ed0e",
   "metadata": {},
   "outputs": [],
   "source": [
    "def solution(n, lost, reserve):\n",
    "    new_lost = set(lost) - set(reserve)\n",
    "    new_reserve = set(reserve) - set(lost)\n",
    "    for i in new_lost:\n",
    "        if i + 1 in new_reserve:\n",
    "            new_reserve.remove(i + 1)\n",
    "        elif i - 1 in new_reserve:\n",
    "            new_reserve.remove(i - 1)\n",
    "        else:\n",
    "            n-=1\n",
    "    return n"
   ]
  }
 ],
 "metadata": {
  "kernelspec": {
   "display_name": "Python 3 (ipykernel)",
   "language": "python",
   "name": "python3"
  },
  "language_info": {
   "codemirror_mode": {
    "name": "ipython",
    "version": 3
   },
   "file_extension": ".py",
   "mimetype": "text/x-python",
   "name": "python",
   "nbconvert_exporter": "python",
   "pygments_lexer": "ipython3",
   "version": "3.11.5"
  }
 },
 "nbformat": 4,
 "nbformat_minor": 5
}
