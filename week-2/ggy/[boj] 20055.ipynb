{
 "cells": [
  {
   "cell_type": "markdown",
   "id": "bd3ec1c6-83db-4c1b-b2f8-13af8b479a71",
   "metadata": {},
   "source": [
    "# 컨베이어 벨트 위의 로봇\n",
    "\n",
    "https://www.acmicpc.net/problem/20055\n",
    "\n",
    "- Solve idea\n",
    "  - 문제의 조건\n",
    "    - 로봇은 올리는 위치에만 올릴 수 있다.\n",
    "    - 로봇이 내리는 위치에 도달하면 그 즉시 내린다.\n",
    "    - 로봇을 올리는 위치에 올리거나, 로봇이 어떤 칸으로 이동하면 칸의 내구도가 1 감소 (로봇은 컨베이어 벨트 위에서 스스로 이동할 수 있다.)\n",
    "    - 벨트의 회전 시\n",
    "      - 벨트가 로봇과 함께 한 칸 회전\n",
    "      - 가장 먼저 벨트에 올라간 로봇 -> 이동할 수 있다면 이동\n",
    "        - 이동 조건: 이동하려는 칸에 로봇 없고, 칸의 내구도 1이상\n",
    "      - 올리는 위치의 칸의 내구도 0이 아니면 올림\n",
    "      - 내구도가 0인 칸의 개수가 K개 이상이면 과정 종료, 아니면 다시 반복"
   ]
  },
  {
   "cell_type": "code",
   "execution_count": null,
   "id": "a6872de6-06d1-4121-a3e0-6af9267b1452",
   "metadata": {},
   "outputs": [],
   "source": [
    "import sys\n",
    "from collections import deque\n",
    "input = sys.stdin.readline\n",
    "\n",
    "N,K = map(int,input().split())\n",
    "arr = deque(list(map(int,input().split())))\n",
    "robot = deque([0]*(N))\n",
    "\n",
    "step = 0\n",
    "num = arr.count(0)\n",
    "\n",
    "while True:\n",
    "    step += 1 # 단계 수행\n",
    "    \n",
    "    # step1: 벨트가 로봇과 함께 한 칸 회전한다.\n",
    "    arr.rotate(1)\n",
    "    robot.rotate(1)\n",
    "    robot[-1] = 0 # 로봇이 내리는 곳 도달\n",
    "\n",
    "    # step2: 제일 처음의 로봇부터 이동할 수 있으면 이동\n",
    "    for i in range(N-2,-1,-1):\n",
    "        if robot[i] and not robot[i+1] and arr[i+1] > 0: # 이동 칸에 로봇 x, 칸 내구도 1이상\n",
    "            robot[i], robot[i+1] = 0, 1\n",
    "            arr[i+1] -= 1\n",
    "            if not arr[i+1]: # 내구도가 0이라면\n",
    "                num += 1\n",
    "    robot[-1] = 0 # 로봇이 내리는 곳 도달\n",
    "    \n",
    "    # step3: 올리는 위치에 있는 칸의 내구도 0이 아닐시\n",
    "    if arr[0]and not robot[0]:\n",
    "        robot[0] = 1 # 로봇 올리기\n",
    "        arr[0] -= 1  # 내구도 1감소\n",
    "        if not arr[0]: # 내구도가 0이라면\n",
    "            num += 1\n",
    "            \n",
    "    if num >= K: # step4: 내구도 0인 칸 K개 이상이라면\n",
    "        print(step)\n",
    "        break"
   ]
  }
 ],
 "metadata": {
  "kernelspec": {
   "display_name": "Python 3 (ipykernel)",
   "language": "python",
   "name": "python3"
  },
  "language_info": {
   "codemirror_mode": {
    "name": "ipython",
    "version": 3
   },
   "file_extension": ".py",
   "mimetype": "text/x-python",
   "name": "python",
   "nbconvert_exporter": "python",
   "pygments_lexer": "ipython3",
   "version": "3.11.5"
  }
 },
 "nbformat": 4,
 "nbformat_minor": 5
}
