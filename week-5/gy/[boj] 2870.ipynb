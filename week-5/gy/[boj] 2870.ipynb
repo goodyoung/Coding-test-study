{
 "cells": [
  {
   "cell_type": "markdown",
   "id": "d22c8305-0dc4-4381-9f43-842bf4c39763",
   "metadata": {},
   "source": [
    "# 수학숙제\n",
    "\n",
    "https://www.acmicpc.net/problem/2870\n",
    "\n",
    "- Solve idea\n",
    "  - 주어진 줄을 반복하여 숫자를 뽑고 그것을 리스트에 저장하여 내림차순으로 출력"
   ]
  },
  {
   "cell_type": "markdown",
   "id": "c02837e7-e17b-4970-b67c-416ee3320866",
   "metadata": {},
   "source": [
    "## 첫 시도"
   ]
  },
  {
   "cell_type": "code",
   "execution_count": 41,
   "id": "43198995-eddc-47ec-a577-01829a7ad201",
   "metadata": {},
   "outputs": [
    {
     "name": "stdout",
     "output_type": "stream",
     "text": [
      "0\n",
      "2\n",
      "2\n",
      "43\n",
      "231233\n"
     ]
    },
    {
     "data": {
      "text/plain": [
       "[None, None, None, None, None]"
      ]
     },
     "execution_count": 41,
     "metadata": {},
     "output_type": "execute_result"
    }
   ],
   "source": [
    "import sys\n",
    "input = sys.stdin.readline\n",
    "N = int(input())\n",
    "sentences = [input().rstrip() for _ in range(N)]\n",
    "\n",
    "numbers =[]\n",
    "for sentence in sentences:\n",
    "    number = ''\n",
    "    for i in sentence:\n",
    "        if not number: # number가 비어있으면\n",
    "            if i.isdigit():\n",
    "                number += i\n",
    "        else:\n",
    "            if i.isdigit():\n",
    "                number += i\n",
    "            else:\n",
    "                numbers.append(int(number)) # number 집어 넣기\n",
    "                number ='' # number 초기화\n",
    "    if number:\n",
    "        numbers.append(int(number))\n",
    "        \n",
    "numbers.sort()\n",
    "[print(int(i)) for i in numbers]"
   ]
  },
  {
   "cell_type": "markdown",
   "id": "0cef01ba-46ef-42de-9851-46e825a8209e",
   "metadata": {},
   "source": [
    "## 두번째 시도\n",
    "\n",
    "코드 좀 더 깔끔하게"
   ]
  },
  {
   "cell_type": "code",
   "execution_count": 41,
   "id": "792a52c3-35d3-4e0a-b883-c923f69b6ced",
   "metadata": {},
   "outputs": [
    {
     "name": "stdout",
     "output_type": "stream",
     "text": [
      "0\n",
      "2\n",
      "2\n",
      "43\n",
      "231233\n"
     ]
    },
    {
     "data": {
      "text/plain": [
       "[None, None, None, None, None]"
      ]
     },
     "execution_count": 41,
     "metadata": {},
     "output_type": "execute_result"
    }
   ],
   "source": [
    "import sys\n",
    "input = sys.stdin.readline\n",
    "N = int(input())\n",
    "sentences = [input().rstrip() for _ in range(N)]\n",
    "\n",
    "numbers =[]\n",
    "for sentence in sentences:\n",
    "    number = ''\n",
    "    for i in sentence:\n",
    "        if i.isdigit():\n",
    "            number += i\n",
    "        else:\n",
    "            if number:\n",
    "                numbers.append(int(number)) # number 집어 넣기\n",
    "                number = ''\n",
    "    if number:\n",
    "        numbers.append(int(number))\n",
    "        \n",
    "numbers.sort()\n",
    "[print(int(i)) for i in numbers]"
   ]
  },
  {
   "cell_type": "markdown",
   "id": "008ba3a0-cba6-46b8-8456-9658e6ced7bc",
   "metadata": {},
   "source": [
    "## 세번째 시도\n",
    "\n",
    "좀 더 다른 띄어쓰기 방식으로 나누기"
   ]
  },
  {
   "cell_type": "code",
   "execution_count": 41,
   "id": "92970545-12ac-4947-bdcc-68e310b251d3",
   "metadata": {},
   "outputs": [
    {
     "name": "stdout",
     "output_type": "stream",
     "text": [
      "0\n",
      "2\n",
      "2\n",
      "43\n",
      "231233\n"
     ]
    },
    {
     "data": {
      "text/plain": [
       "[None, None, None, None, None]"
      ]
     },
     "execution_count": 41,
     "metadata": {},
     "output_type": "execute_result"
    }
   ],
   "source": [
    "import sys\n",
    "input = sys.stdin.readline\n",
    "N = int(input())\n",
    "sentences = [input().rstrip() for _ in range(N)]\n",
    "\n",
    "numbers =[]\n",
    "for sentence in sentences:\n",
    "    number = ''\n",
    "    for i in sentence:\n",
    "        if i.isdigit():\n",
    "            number += i\n",
    "        else:\n",
    "            if number and number[-1] != ' ':\n",
    "                number += ' ' # 구분하기 위해 띄어쓰기\n",
    "    if number:\n",
    "        for i in number.split(' '): # 띄어쓰기 기준으로 나누기\n",
    "            if i: # 값이 있으면\n",
    "                numbers.append(int(i))\n",
    "        \n",
    "numbers.sort()\n",
    "[print(int(i)) for i in numbers]"
   ]
  }
 ],
 "metadata": {
  "kernelspec": {
   "display_name": "Python 3 (ipykernel)",
   "language": "python",
   "name": "python3"
  },
  "language_info": {
   "codemirror_mode": {
    "name": "ipython",
    "version": 3
   },
   "file_extension": ".py",
   "mimetype": "text/x-python",
   "name": "python",
   "nbconvert_exporter": "python",
   "pygments_lexer": "ipython3",
   "version": "3.11.5"
  }
 },
 "nbformat": 4,
 "nbformat_minor": 5
}
