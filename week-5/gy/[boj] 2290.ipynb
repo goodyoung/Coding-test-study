{
 "cells": [
  {
   "cell_type": "markdown",
   "id": "e60822b8-ed8b-4b62-bad5-92231e403411",
   "metadata": {},
   "source": [
    "# LCD Test\n",
    "\n",
    "https://www.acmicpc.net/problem/2290\n",
    "\n",
    "- Solve idea\n",
    "  - 감이 안와서 찾아보고 힌트만 얻었다.\n",
    "  - 7 segment로 풀면 된다고 하더라\n",
    "  - 각 칸마다 해당하는 숫자를 보고 분기문으로 만들었다."
   ]
  },
  {
   "cell_type": "code",
   "execution_count": 32,
   "id": "97fdda5a-d928-4281-871e-712fa44df7c5",
   "metadata": {},
   "outputs": [
    {
     "name": "stdout",
     "output_type": "stream",
     "text": [
      "      --   --        --   --   --   --   --   --  \n",
      "   |    |    | |  | |    |       | |  | |  | |  | \n",
      "   |    |    | |  | |    |       | |  | |  | |  | \n",
      "      --   --   --   --   --        --   --       \n",
      "   | |       |    |    | |  |    | |  |    | |  | \n",
      "   | |       |    |    | |  |    | |  |    | |  | \n",
      "      --   --        --   --        --   --   --  \n"
     ]
    }
   ],
   "source": [
    "import sys\n",
    "\n",
    "input = sys.stdin.readline\n",
    "# s,n = input().split()\n",
    "s = int(s)\n",
    "s,n = 2, 1234567890\n",
    "def make_number(n):\n",
    "    numbers = [[' ']*(s+2) for _ in range(2*s + 3)]\n",
    "    for i in range(1, s+1):\n",
    "        if n in '02356789':\n",
    "            numbers[0][i] = '-'  \n",
    "        if n in '01234789':\n",
    "            numbers[i][-1] = '|'  \n",
    "        if n in '013456789':\n",
    "            numbers[s+1+i][-1] = '|'  \n",
    "        if n in '0235689':\n",
    "            numbers[2*s + 2][i] = '-'  \n",
    "        if n in '0268':\n",
    "            numbers[s+1+i][0] = '|'  \n",
    "        if n in '045689':\n",
    "            numbers[i][0] = '|'  \n",
    "        if n in '2345689':\n",
    "            numbers[s+1][i] = '-'  \n",
    "    return numbers\n",
    "\n",
    "result = [make_number(num) for num in str(n)]\n",
    "\n",
    "for i in range(2*s+3):\n",
    "    for j in range(len(result)):\n",
    "        print(''.join(result[j][i]), end ='')\n",
    "        print(' ',end = '')\n",
    "    print()  "
   ]
  },
  {
   "cell_type": "markdown",
   "id": "232c88b6-6d1d-4689-995f-9ae99b160043",
   "metadata": {},
   "source": [
    "### 출력문의 다른 방법\n",
    "\n",
    "zip: 각 데이터 타입들의 인덱스가 같은 원소끼리 묶어 새로운 object를 생성하는 내장 함수이다.\n",
    "\n",
    "- 이렇게 result만 넣어도 한 차원 내린 값으로 같은 인덱스 들 끼리만 뽑음\n",
    "  ```\n",
    "  ([' ', ' ', ' ', ' '],\n",
    " [' ', '-', '-', ' '],\n",
    " [' ', '-', '-', ' '],\n",
    " [' ', ' ', ' ', ' '],\n",
    " [' ', '-', '-', ' '],\n",
    " [' ', '-', '-', ' '],\n",
    " [' ', ' ', ' ', ' '],\n",
    " [' ', '-', '-', ' '],\n",
    " [' ', '-', '-', ' '],\n",
    " [' ', '-', '-', ' '])\n",
    " ```"
   ]
  },
  {
   "cell_type": "code",
   "execution_count": 27,
   "id": "d86bbb7a-7d00-4177-aa6d-709c8be54f14",
   "metadata": {},
   "outputs": [
    {
     "name": "stdout",
     "output_type": "stream",
     "text": [
      "      --   --        --   --   --   --   --   --  \n",
      "   |    |    | |  | |    |       | |  | |  | |  | \n",
      "   |    |    | |  | |    |       | |  | |  | |  | \n",
      "      --   --   --   --   --        --   --       \n",
      "   | |       |    |    | |  |    | |  |    | |  | \n",
      "   | |       |    |    | |  |    | |  |    | |  | \n",
      "      --   --        --   --        --   --   --  \n"
     ]
    }
   ],
   "source": [
    "for line in zip(*result):\n",
    "    for r in line:\n",
    "        print(''.join(r), end=' ')\n",
    "    print()"
   ]
  }
 ],
 "metadata": {
  "kernelspec": {
   "display_name": "Python 3 (ipykernel)",
   "language": "python",
   "name": "python3"
  },
  "language_info": {
   "codemirror_mode": {
    "name": "ipython",
    "version": 3
   },
   "file_extension": ".py",
   "mimetype": "text/x-python",
   "name": "python",
   "nbconvert_exporter": "python",
   "pygments_lexer": "ipython3",
   "version": "3.11.5"
  }
 },
 "nbformat": 4,
 "nbformat_minor": 5
}
