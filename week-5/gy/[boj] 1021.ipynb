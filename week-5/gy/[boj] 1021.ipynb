{
 "cells": [
  {
   "cell_type": "markdown",
   "id": "d3ef9133-a23c-456a-a401-1dfb92a3f5cc",
   "metadata": {},
   "source": [
    "# 회전하는 큐\n",
    "\n",
    "https://www.acmicpc.net/problem/1021\n",
    "\n",
    "- Solve idea\n",
    "  - "
   ]
  },
  {
   "cell_type": "code",
   "execution_count": 1,
   "id": "c74c561c-20e0-4ac2-a1a1-349535c17f19",
   "metadata": {},
   "outputs": [],
   "source": [
    "import sys\n",
    "from collections import deque\n",
    "input = sys.stdin.readline"
   ]
  },
  {
   "cell_type": "code",
   "execution_count": null,
   "id": "65f5ddeb-85ad-4e93-95d8-ca038ddaddf6",
   "metadata": {},
   "outputs": [],
   "source": [
    "N,M = map(int, input().split())\n",
    "arr = deque([i for i in range(1,N+1)])\n",
    "order = list(map(int, input().split()))\n",
    "cnt = 0"
   ]
  },
  {
   "cell_type": "code",
   "execution_count": 41,
   "id": "38db7cd9-44bd-4217-829d-9f8f827e94d4",
   "metadata": {},
   "outputs": [],
   "source": [
    "a = deque([123,23,12,46,666])"
   ]
  },
  {
   "cell_type": "code",
   "execution_count": 22,
   "id": "e032d54d-5a30-46ca-8d37-5212ca359b90",
   "metadata": {},
   "outputs": [],
   "source": [
    "a.rotate() # -1이면 왼쪽, 양수이면 오른쪽 이동"
   ]
  },
  {
   "cell_type": "code",
   "execution_count": 26,
   "id": "bb6f683a-21a5-463d-8789-f39744d7d691",
   "metadata": {},
   "outputs": [
    {
     "data": {
      "text/plain": [
       "123"
      ]
     },
     "execution_count": 26,
     "metadata": {},
     "output_type": "execute_result"
    }
   ],
   "source": [
    "a[0]"
   ]
  },
  {
   "cell_type": "code",
   "execution_count": 32,
   "id": "6ea0c07e-cae4-4c54-a0ce-63a412138111",
   "metadata": {},
   "outputs": [],
   "source": [
    "def rotate(arr,target,n):\n",
    "    cnt = 1\n",
    "    arr.rotate(n)\n",
    "    if arr[0] == target:\n",
    "        return cnt\n",
    "    else:\n",
    "        return cnt + rotate(arr,target,n)"
   ]
  },
  {
   "cell_type": "code",
   "execution_count": 42,
   "id": "63cf995c-2563-40e6-89ba-05b85a39000a",
   "metadata": {},
   "outputs": [
    {
     "name": "stdout",
     "output_type": "stream",
     "text": [
      "deque([123, 23, 12, 46, 666])\n",
      "deque([23, 12, 46, 666, 123])\n"
     ]
    }
   ],
   "source": [
    "b = deque(a)\n",
    "c = deque(a)\n",
    "print(b)\n",
    "right = rotate(b,23,1)\n",
    "print(b)\n",
    "left = rotate(c,23,-1)"
   ]
  },
  {
   "cell_type": "code",
   "execution_count": 62,
   "id": "206b7967-a0cf-4db2-b70f-431261e1a844",
   "metadata": {},
   "outputs": [],
   "source": [
    "N,M = 10, 3\n",
    "arr = deque([i for i in range(1,N+1)])\n",
    "order = [2,9,5]\n",
    "result = 0 "
   ]
  },
  {
   "cell_type": "code",
   "execution_count": 63,
   "id": "df189d12-f823-41b8-8520-b2bc4ca6a86b",
   "metadata": {},
   "outputs": [],
   "source": [
    "def rotate(arr,target,n):\n",
    "    cnt = 1\n",
    "    arr.rotate(n)\n",
    "    if arr[0] == target:\n",
    "        return cnt\n",
    "    else:\n",
    "        return cnt + rotate(arr,target,n)\n",
    "        \n",
    "for num in order:\n",
    "    if num == arr[0]:\n",
    "        arr.popleft()\n",
    "    else:\n",
    "        temp1, temp2 = deque(arr), deque(arr)\n",
    "        right = rotate(temp1,num,1)\n",
    "        left = rotate(temp2,num,-1)\n",
    "        if right > left:\n",
    "            temp2.popleft()\n",
    "            arr = temp2\n",
    "        else:\n",
    "            temp1.popleft()\n",
    "            arr = temp1\n",
    "        result += min(right,left)"
   ]
  },
  {
   "cell_type": "code",
   "execution_count": 64,
   "id": "e23fc677-de26-47da-8c8c-3ed6b020363f",
   "metadata": {},
   "outputs": [
    {
     "name": "stdout",
     "output_type": "stream",
     "text": [
      "8\n"
     ]
    }
   ],
   "source": [
    "print(result)"
   ]
  },
  {
   "cell_type": "code",
   "execution_count": 61,
   "id": "fb95801a-4e20-425b-bdf7-61bdfcdeed0a",
   "metadata": {},
   "outputs": [
    {
     "data": {
      "text/plain": [
       "deque([4, 5, 6, 7, 8, 9, 10])"
      ]
     },
     "execution_count": 61,
     "metadata": {},
     "output_type": "execute_result"
    }
   ],
   "source": [
    "arr"
   ]
  },
  {
   "cell_type": "code",
   "execution_count": null,
   "id": "a39ae13e-1e4a-4b55-b608-9ceb368527f6",
   "metadata": {},
   "outputs": [],
   "source": []
  }
 ],
 "metadata": {
  "kernelspec": {
   "display_name": "Python 3 (ipykernel)",
   "language": "python",
   "name": "python3"
  },
  "language_info": {
   "codemirror_mode": {
    "name": "ipython",
    "version": 3
   },
   "file_extension": ".py",
   "mimetype": "text/x-python",
   "name": "python",
   "nbconvert_exporter": "python",
   "pygments_lexer": "ipython3",
   "version": "3.11.5"
  }
 },
 "nbformat": 4,
 "nbformat_minor": 5
}
