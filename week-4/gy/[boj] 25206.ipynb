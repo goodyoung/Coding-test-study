{
 "cells": [
  {
   "cell_type": "markdown",
   "id": "eb28e434-0458-4d25-88dc-12b1d101759f",
   "metadata": {},
   "source": [
    "# 너의 평점은\n",
    "\n",
    "https://www.acmicpc.net/problem/25206\n",
    "\n",
    "- Solve idea\n",
    "  - 노가다? 하면 될 것 같다."
   ]
  },
  {
   "cell_type": "code",
   "execution_count": null,
   "id": "d994318b-f84a-4fc7-ab16-156a4e800b9c",
   "metadata": {},
   "outputs": [],
   "source": [
    "import sys\n",
    "input = sys.stdin.readline\n",
    "\n",
    "result = 0\n",
    "gpa_sum = 0\n",
    "for _ in range(20):\n",
    "    name , gpa, student_grade = map(str, input().split())\n",
    "    gpa = flaot(gpa)\n",
    "    \n",
    "    num = grade[student_grade]\n",
    "    \n",
    "    result += (num*gpa)\n",
    "    gpa_sum += gpa\n",
    "print(result/gpa_sum)\n",
    "\n",
    "grade = {\n",
    "    \"A+\":\t4.5,\n",
    "\"A0\":\t4.0,\n",
    "\"B+\":\t3.5,\n",
    "\"B0\":\t3.0,\n",
    "\"C+\":\t2.5,\n",
    "\"C0\":\t2.0,\n",
    "\"D+\":\t1.5,\n",
    "\"D0\":\t1.0,\n",
    "\"F\":\t0.0,\n",
    "}"
   ]
  }
 ],
 "metadata": {
  "kernelspec": {
   "display_name": "Python 3 (ipykernel)",
   "language": "python",
   "name": "python3"
  },
  "language_info": {
   "codemirror_mode": {
    "name": "ipython",
    "version": 3
   },
   "file_extension": ".py",
   "mimetype": "text/x-python",
   "name": "python",
   "nbconvert_exporter": "python",
   "pygments_lexer": "ipython3",
   "version": "3.11.5"
  }
 },
 "nbformat": 4,
 "nbformat_minor": 5
}
