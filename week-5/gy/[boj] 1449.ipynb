{
 "cells": [
  {
   "cell_type": "markdown",
   "id": "3d8bdcc8-84f1-47b0-8950-8a96422b9c52",
   "metadata": {},
   "source": [
    "# 수리공 항승\n",
    "\n",
    "https://www.acmicpc.net/problem/1449\n",
    "\n",
    "- Solve idea\n",
    "  - 먼저 정렬을 하고 오름차순으로 순회 하다가 tape의 범위를 갱신해주면 될 것 같다"
   ]
  },
  {
   "cell_type": "code",
   "execution_count": null,
   "id": "4ed17369-b79b-4c17-a510-9801a771e9e6",
   "metadata": {},
   "outputs": [],
   "source": [
    "import sys\n",
    "input = sys.stdin.readline\n",
    "\n",
    "N,L = map(int,input().split())\n",
    "\n",
    "arr = list(map(int,input().split())) \n",
    "\n",
    "arr.sort() # 정렬\n",
    "\n",
    "cnt = 0\n",
    "tape_range = 0\n",
    "for i in arr:\n",
    "    if not tape_range:\n",
    "        tape_range = i+L-0.5\n",
    "        cnt += 1\n",
    "    else:\n",
    "        if tape_range < i:\n",
    "            tape_range = i+L-0.5\n",
    "            cnt += 1\n",
    "print(cnt)"
   ]
  }
 ],
 "metadata": {
  "kernelspec": {
   "display_name": "Python 3 (ipykernel)",
   "language": "python",
   "name": "python3"
  },
  "language_info": {
   "codemirror_mode": {
    "name": "ipython",
    "version": 3
   },
   "file_extension": ".py",
   "mimetype": "text/x-python",
   "name": "python",
   "nbconvert_exporter": "python",
   "pygments_lexer": "ipython3",
   "version": "3.11.5"
  }
 },
 "nbformat": 4,
 "nbformat_minor": 5
}
