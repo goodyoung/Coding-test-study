{
 "cells": [
  {
   "cell_type": "markdown",
   "id": "0ca215b4-fe03-4aab-838f-3d283f964432",
   "metadata": {},
   "source": [
    "# 벽 부수고 이동하기\n",
    "\n",
    "https://www.acmicpc.net/problem/2206\n",
    "\n",
    "- Solve idea\n",
    "  - 행렬에서 (1,1)~(N,M)까지 최단 경로를 구하는 문제 -> bfs가 생각남\n",
    "  - 이동 중 한 칸을 부수고 이동하는 것이 허용 -> 입력이 (1000)이므로 모든 경우를 비교해서 하면 될 것 같았다. -> **이것이 시간초과를 야기함.**"
   ]
  },
  {
   "cell_type": "markdown",
   "id": "c483bd4c-1095-486b-8a86-5fe8bcafd80a",
   "metadata": {},
   "source": [
    "### 내 첫 시도\n",
    "- 시간초과\n",
    "  - 모든 경우의 수 찾기: O(N*M)\n",
    "  - bfs: O(N*M)\n",
    "  - Big O: O(N^2*M^2) -> O(1000 ^ 2 x 1000 ^ 2) = 1000000000000, 1조\n",
    "  - 시간이 터짐!"
   ]
  },
  {
   "cell_type": "code",
   "execution_count": null,
   "id": "2059c6bc-0413-4076-bda7-bd28654a3edb",
   "metadata": {},
   "outputs": [],
   "source": [
    "import sys\n",
    "from collections import deque\n",
    "input = sys.stdin.readline\n",
    "\n",
    "N,M = map(int,input().split())\n",
    "\n",
    "arr = [list(map(int,list(input().rstrip()))) for _ in range(N)]\n",
    "\n",
    "d = [(0,1),(0,-1),(-1,0),(1,0)]\n",
    "\n",
    "\n",
    "def bfs():\n",
    "    q = deque([(0,0)])\n",
    "    visited = [[0]*M for _ in range(N)]\n",
    "    if arr[0][0]:\n",
    "        return 1e9\n",
    "    visited[0][0] = 1\n",
    "    cnt = 1 # 시작 하는 순간 셈\n",
    "    while q:\n",
    "        dx,dy = q.popleft()\n",
    "        for x,y in d:\n",
    "            ix, iy= x+dx, y + dy\n",
    "            if 0<=ix<N and 0<=iy<M and not visited[ix][iy] and not arr[ix][iy]:\n",
    "                visited[ix][iy] = visited[dx][dy] + 1\n",
    "                q.append((ix,iy))\n",
    "    if not visited[N-1][M-1]: # 0이면 -> 방문 X -> 불가능 할 떄\n",
    "        return 1e9\n",
    "    else:\n",
    "        return visited[N-1][M-1]\n",
    "# 벽을 하나 부수는 모든 경우의 \n",
    "cnt = 1e9\n",
    "\n",
    "cnt = min(bfs(),cnt) # 벽을 부수지 않는 경우\n",
    "\n",
    "for i in range(N): # 벽을 하나 부수는 경우\n",
    "    for j in range(M):\n",
    "        if arr[i][j]:\n",
    "            arr[i][j] = 0\n",
    "            cnt = min(bfs(),cnt) # bfs 실패하는 경우도 생각해야 함!\n",
    "            arr[i][j] = 1  # 복구\n",
    "if cnt == 1e9:\n",
    "    print(-1)\n",
    "else:\n",
    "    print(cnt)"
   ]
  },
  {
   "cell_type": "markdown",
   "id": "5ff97f0f-d0ca-4a13-b5cb-29dfc2d19258",
   "metadata": {},
   "source": [
    "# 보고 푼 풀이\n",
    "- Visited의 구조를 변형\n",
    "  - 3차원으로\n",
    "    ```\n",
    "    | [0, 0] [0, 0] |\n",
    "\n",
    "    | [0, 0] [0, 0] |\n",
    "    ```\n",
    "    구조로 변경 (첫 원소는 방문 X, 두번째 원소는 방문 O)\n",
    "  - bfs를 돌 때 애초에 2가지(벽을 뚫는 경우, 뚫지 않는 경우)를 같이 도는 형식이다."
   ]
  },
  {
   "cell_type": "code",
   "execution_count": null,
   "id": "5b3859a3-6f3c-4e35-b20c-8f440f25d4b7",
   "metadata": {},
   "outputs": [],
   "source": [
    "import sys\n",
    "from collections import deque\n",
    "input = sys.stdin.readline\n",
    "\n",
    "N,M = map(int,input().split())\n",
    "\n",
    "arr = [list(map(int,list(input().rstrip()))) for _ in range(N)]\n",
    "visited = [[[0]*2 for _ in range(M)] for _ in range(N)]\n",
    "visited[0][0][0] = 1\n",
    "\n",
    "d = [(0,1),(0,-1),(1,0),(0,-1)]\n",
    "def bfs(x,y,z):\n",
    "    q = deque()\n",
    "    q.append((x,y,z))    \n",
    "    \n",
    "    while q:\n",
    "        a, b, c = q.popleft()\n",
    "        if a == N-1 and b == M-1:\n",
    "            return visited[a][b][c]\n",
    "            \n",
    "        for dx,dy in d:\n",
    "            nx = a + dx\n",
    "            ny = b + dy\n",
    "            \n",
    "            if 0<=nx<N and 0<=ny<M:\n",
    "                # 벽인데, 벽 부수기를 안 사용한 경우\n",
    "                if arr[nx][ny]==1 and c==0:\n",
    "                    visited[nx][ny][1] = visited[a][b][0] + 1\n",
    "                    q.append((nx,ny,1))\n",
    "                    \n",
    "                # 벽이 아니고, 방문을 하지 않은 경우\n",
    "                if arr[nx][ny]==0 and visited[nx][ny][c]==0:\n",
    "                    visited[nx][ny][c] = visited[a][b][c] + 1\n",
    "                    q.append((nx,ny,c))\n",
    "                \n",
    "    return -1\n",
    "\n",
    "print(bfs(0,0,0))"
   ]
  },
  {
   "cell_type": "markdown",
   "id": "7f9cd070-5712-4502-a998-50870fbdb2c3",
   "metadata": {},
   "source": [
    "### dx 차이이다.. 왜지?\n",
    "\n",
    "- 잘못씀\n",
    "- 하하\n",
    "- 제발 잘 보자"
   ]
  }
 ],
 "metadata": {
  "kernelspec": {
   "display_name": "Python 3 (ipykernel)",
   "language": "python",
   "name": "python3"
  },
  "language_info": {
   "codemirror_mode": {
    "name": "ipython",
    "version": 3
   },
   "file_extension": ".py",
   "mimetype": "text/x-python",
   "name": "python",
   "nbconvert_exporter": "python",
   "pygments_lexer": "ipython3",
   "version": "3.11.5"
  }
 },
 "nbformat": 4,
 "nbformat_minor": 5
}
