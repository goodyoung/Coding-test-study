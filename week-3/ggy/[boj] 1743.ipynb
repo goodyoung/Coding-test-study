{
 "cells": [
  {
   "cell_type": "markdown",
   "id": "16606df9-ced5-4cb0-b079-9c9db67a29ee",
   "metadata": {},
   "source": [
    "# 음식물 피하기\n",
    "\n",
    "https://www.acmicpc.net/problem/1743\n",
    "\n",
    "- Solve idea\n",
    "  - 상하좌우 연결된 음식물의 개수를 찾으면 되는 문제이므로 dfs로 탐색해서 풀면될 것 같다.\n",
    "  - 풀기는 global로 풀었다.\n",
    "  - **다른 풀이 방법을 찾아보니 return 방법이 있다.**"
   ]
  },
  {
   "cell_type": "markdown",
   "id": "04ea4165-134e-4efc-bbd6-9f611d18d8e4",
   "metadata": {},
   "source": [
    "### 내 풀이"
   ]
  },
  {
   "cell_type": "code",
   "execution_count": 1,
   "id": "349f0d60-9ad9-4244-995c-27e1e443cbab",
   "metadata": {},
   "outputs": [],
   "source": [
    "import sys\n",
    "sys.setrecursionlimit(10**4)\n",
    "input = sys.stdin.readline\n",
    "\n",
    "N,M,K = map(int,input().split())\n",
    "arr = [[0]*(M+1) for _ in range(N+1)]\n",
    "\n",
    "for _ in range(K):\n",
    "    a,b = map(int,input().split())\n",
    "    arr[a][b] = 1\n",
    "    \n",
    "d = [(1,0),(0,1),(-1,0),(0,-1)]\n",
    "def dfs(x,y):\n",
    "    global cnt\n",
    "    for x_,y_ in d:\n",
    "        a,b = x+x_, y+y_\n",
    "        if 0 < a < N+1 and 0 < b < M+1 and arr[a][b]:\n",
    "            arr[a][b] = 0\n",
    "            cnt += 1\n",
    "            dfs(a,b)\n",
    "result = 0\n",
    "for i in range(1,N+1):\n",
    "    for j in range(1,M+1):\n",
    "        if arr[i][j]:\n",
    "            cnt = 1\n",
    "            arr[i][j] = 0\n",
    "            dfs(i,j)\n",
    "            if cnt > result:\n",
    "                result = cnt\n",
    "print(result)"
   ]
  },
  {
   "cell_type": "markdown",
   "id": "4fc3c5f9-bb5d-4949-a02d-1006f609a96a",
   "metadata": {},
   "source": [
    "### 다른 풀이\n",
    "- global 안씀"
   ]
  },
  {
   "cell_type": "code",
   "execution_count": null,
   "id": "43724f9a-076f-467d-8e9a-44019a6aeb81",
   "metadata": {},
   "outputs": [],
   "source": [
    "import sys\n",
    "sys.setrecursionlimit(10**4)\n",
    "input = sys.stdin.readline\n",
    "\n",
    "N,M,K = map(int,input().split())\n",
    "arr = [[0]*(M+1) for _ in range(N+1)]\n",
    "\n",
    "for _ in range(K):\n",
    "    a,b = map(int,input().split())\n",
    "    arr[a][b] = 1\n",
    "    \n",
    "d = [(1,0),(0,1),(-1,0),(0,-1)]\n",
    "def dfs(x,y):\n",
    "    cnt = 1\n",
    "    for x_,y_ in d:\n",
    "        a,b = x+x_, y+y_\n",
    "        if 0 < a < N+1 and 0 < b < M+1 and arr[a][b]:\n",
    "            arr[a][b] = 0\n",
    "            cnt += dfs(a,b)\n",
    "    return cnt\n",
    "            \n",
    "result = 0\n",
    "for i in range(1,N+1):\n",
    "    for j in range(1,M+1):\n",
    "        if arr[i][j]:\n",
    "            arr[i][j] = 0\n",
    "            result = max(dfs(i,j),result)\n",
    "print(result)"
   ]
  }
 ],
 "metadata": {
  "kernelspec": {
   "display_name": "Python 3 (ipykernel)",
   "language": "python",
   "name": "python3"
  },
  "language_info": {
   "codemirror_mode": {
    "name": "ipython",
    "version": 3
   },
   "file_extension": ".py",
   "mimetype": "text/x-python",
   "name": "python",
   "nbconvert_exporter": "python",
   "pygments_lexer": "ipython3",
   "version": "3.11.5"
  }
 },
 "nbformat": 4,
 "nbformat_minor": 5
}
