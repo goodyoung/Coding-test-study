{
 "cells": [
  {
   "cell_type": "markdown",
   "id": "d3ef9133-a23c-456a-a401-1dfb92a3f5cc",
   "metadata": {},
   "source": [
    "# 회전하는 큐\n",
    "\n",
    "https://www.acmicpc.net/problem/1021\n",
    "\n",
    "- Solve idea\n",
    "  - 왼, 오 중 가장 적게 회전하는 것을 찾기 위하여 재귀 함수를 호출해서 찾고 그 값을 저장하는 방식으로 하자"
   ]
  },
  {
   "cell_type": "markdown",
   "id": "09cb28dd-cb33-4956-a6c4-2046cedc9250",
   "metadata": {},
   "source": [
    "### 첫번째 코드"
   ]
  },
  {
   "cell_type": "code",
   "execution_count": null,
   "id": "0c7ba9df-6274-41d1-89a9-9d92023a4e21",
   "metadata": {},
   "outputs": [],
   "source": [
    "import sys\n",
    "from collections import deque\n",
    "input = sys.stdin.readline\n",
    "N,M = map(int, input().split())\n",
    "arr = deque([i for i in range(1,N+1)])\n",
    "order = list(map(int, input().split()))\n",
    "result = 0\n",
    "\n",
    "def rotate(arr,target,n):\n",
    "    cnt = 1\n",
    "    arr.rotate(n)\n",
    "    if arr[0] == target:\n",
    "        arr.popleft()\n",
    "        return cnt\n",
    "    else:\n",
    "        return cnt + rotate(arr,target,n)\n",
    "        \n",
    "for num in order:\n",
    "    if num == arr[0]:\n",
    "        arr.popleft()\n",
    "    else:\n",
    "        temp1, temp2 = deque(arr), deque(arr)\n",
    "        right = rotate(temp1,num,1)\n",
    "        left = rotate(temp2,num,-1)\n",
    "        if right > left:\n",
    "            arr = temp2\n",
    "        else:\n",
    "            arr = temp1\n",
    "        result += min(right,left)\n",
    "print(result)"
   ]
  },
  {
   "cell_type": "markdown",
   "id": "134c851e-fece-4c80-bec8-d25496cd7d4b",
   "metadata": {},
   "source": [
    "### 두번째 코드\n",
    "\n",
    "재귀함수 X"
   ]
  },
  {
   "cell_type": "code",
   "execution_count": null,
   "id": "c00e2855-7779-49cd-ae41-90d32b5a6c78",
   "metadata": {},
   "outputs": [],
   "source": [
    "import sys\n",
    "from collections import deque\n",
    "input = sys.stdin.readline\n",
    "N,M = map(int, input().split())\n",
    "arr = deque([i for i in range(1,N+1)])\n",
    "order = list(map(int, input().split()))\n",
    "result = 0\n",
    "        \n",
    "for num in order:\n",
    "    if num == arr[0]:\n",
    "        arr.popleft()\n",
    "    else:\n",
    "        if arr.index(num) < len(arr)/2:\n",
    "            while arr[0] != num:\n",
    "                arr.rotate(-1)\n",
    "                result += 1\n",
    "            \n",
    "        else:\n",
    "            while arr[0] != num:\n",
    "                arr.rotate()\n",
    "                result += 1\n",
    "        arr.popleft()\n",
    "            \n",
    "print(result)"
   ]
  },
  {
   "cell_type": "markdown",
   "id": "a8b51aca-d2e0-44b0-8583-2342b49fc18d",
   "metadata": {},
   "source": [
    "### 세번째 코드\n",
    "\n",
    "좀 더 깔끔하게"
   ]
  },
  {
   "cell_type": "code",
   "execution_count": null,
   "id": "e289984e-63ec-4822-bd70-4b7ddf2b4d0f",
   "metadata": {},
   "outputs": [],
   "source": [
    "import sys\n",
    "from collections import deque\n",
    "input = sys.stdin.readline\n",
    "N,M = map(int, input().split())\n",
    "arr = deque([i for i in range(1,N+1)])\n",
    "order = list(map(int, input().split()))\n",
    "result = 0\n",
    "        \n",
    "for num in order:\n",
    "    if num != arr[0]:\n",
    "        if arr.index(num) < len(arr)/2: # 인덱스가 배열의 반 보다 적으면\n",
    "            while arr[0] != num:\n",
    "                arr.rotate(-1)\n",
    "                result += 1\n",
    "        else:\n",
    "            while arr[0] != num:\n",
    "                arr.rotate()\n",
    "                result += 1\n",
    "    arr.popleft() # 원소 빼내기\n",
    "            \n",
    "print(result)"
   ]
  }
 ],
 "metadata": {
  "kernelspec": {
   "display_name": "Python 3 (ipykernel)",
   "language": "python",
   "name": "python3"
  },
  "language_info": {
   "codemirror_mode": {
    "name": "ipython",
    "version": 3
   },
   "file_extension": ".py",
   "mimetype": "text/x-python",
   "name": "python",
   "nbconvert_exporter": "python",
   "pygments_lexer": "ipython3",
   "version": "3.11.5"
  }
 },
 "nbformat": 4,
 "nbformat_minor": 5
}
