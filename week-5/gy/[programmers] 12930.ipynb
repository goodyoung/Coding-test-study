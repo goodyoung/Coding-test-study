{
 "cells": [
  {
   "cell_type": "markdown",
   "id": "463f49aa-d988-48d2-8f5f-2f9f57a95280",
   "metadata": {},
   "source": [
    "# 이상한 문자 만들기\n",
    "\n",
    "https://school.programmers.co.kr/learn/courses/30/lessons/12930\n",
    "\n",
    "- Solve idea\n",
    "  - 문자 포문을 돌면서 변환하기"
   ]
  },
  {
   "cell_type": "code",
   "execution_count": null,
   "id": "e2d2acab-dad0-4a9f-a1bb-488e34bba05c",
   "metadata": {},
   "outputs": [],
   "source": [
    "import string\n",
    "def solution(s):\n",
    "    answer = ''\n",
    "    words = s.split(\" \")\n",
    "    for word in words:\n",
    "        for i in range(len(word)):\n",
    "            if i % 2 == 0: # 짝수일 때\n",
    "                answer += string.capwords(word[i])\n",
    "            else:\n",
    "                answer += word[i].lower()\n",
    "                \n",
    "        answer += ' '\n",
    "                \n",
    "    return answer[:-1]"
   ]
  }
 ],
 "metadata": {
  "kernelspec": {
   "display_name": "Python 3 (ipykernel)",
   "language": "python",
   "name": "python3"
  },
  "language_info": {
   "codemirror_mode": {
    "name": "ipython",
    "version": 3
   },
   "file_extension": ".py",
   "mimetype": "text/x-python",
   "name": "python",
   "nbconvert_exporter": "python",
   "pygments_lexer": "ipython3",
   "version": "3.11.5"
  }
 },
 "nbformat": 4,
 "nbformat_minor": 5
}
