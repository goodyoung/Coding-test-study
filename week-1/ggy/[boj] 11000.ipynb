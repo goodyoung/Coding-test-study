{
 "cells": [
  {
   "cell_type": "markdown",
   "id": "2c0c2e3f-793e-41d6-b7dd-2e136c4a82f2",
   "metadata": {
    "jp-MarkdownHeadingCollapsed": true
   },
   "source": [
    "# 강의실 배정\n",
    "\n",
    "https://www.acmicpc.net/problem/11000\n",
    "\n",
    "- Solve idea\n",
    "  - 첫 시도\n",
    "      - 빨리 끝나는 순으로 정렬\n",
    "      - 그다음 우선순위 큐에 넣고\n",
    "      - 비교\n",
    "      - 다 비교하고 큐에 남는 개수 확인\n",
    "  - 정답\n",
    "    - 시작 하는 순으로 정렬\n",
    "    - 그다음 우선순위 큐에 넣고\n",
    "    - 비교\n",
    "    - 다 비교하고 큐의 남는 개수 출력\n",
    "- Point\n",
    "  - 이 문제는 `그리디` 이다.\n",
    "    - 강의실을 만들 때 매 순간 끝나는 시간이 작은 것 부터 차곡 차곡 쌓아 올라가는 것이 그리디의 성질을 만족한다."
   ]
  },
  {
   "cell_type": "code",
   "execution_count": 36,
   "id": "908050c9-9c47-4a9e-bfd0-561c4c0fb6ab",
   "metadata": {},
   "outputs": [
    {
     "name": "stdout",
     "output_type": "stream",
     "text": [
      "1\n"
     ]
    }
   ],
   "source": [
    "import sys\n",
    "import heapq\n",
    "input = sys.stdin.readline\n",
    "N = int(input())\n",
    "arr = [list(map(int,input().split())) for _ in range(N)]\n",
    "arr.sort(key=lambda x: (x[0],x[1]))\n",
    "print(arr)\n",
    "lecture = []\n",
    "heapq.heappush(lecture,arr[0][1])\n",
    "for i in range(1,N):\n",
    "    end = heapq.heappop(lecture)\n",
    "    if arr[i][0] < end:\n",
    "        heapq.heappush(lecture,end)\n",
    "    heapq.heappush(lecture,arr[i][1])    \n",
    "        \n",
    "print(len(lecture))"
   ]
  }
 ],
 "metadata": {
  "kernelspec": {
   "display_name": "Python 3 (ipykernel)",
   "language": "python",
   "name": "python3"
  },
  "language_info": {
   "codemirror_mode": {
    "name": "ipython",
    "version": 3
   },
   "file_extension": ".py",
   "mimetype": "text/x-python",
   "name": "python",
   "nbconvert_exporter": "python",
   "pygments_lexer": "ipython3",
   "version": "3.11.5"
  }
 },
 "nbformat": 4,
 "nbformat_minor": 5
}
