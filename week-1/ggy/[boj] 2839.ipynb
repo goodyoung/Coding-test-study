{
 "cells": [
  {
   "cell_type": "markdown",
   "id": "241819f3-2dcb-43e4-b333-716308db04d8",
   "metadata": {},
   "source": [
    "# 설탕 배달\n",
    "\n",
    "https://www.acmicpc.net/problem/2839\n",
    "\n",
    "- Solve idea\n",
    "  - 그 순간 가장 5킬로그램 봉지로 배달이 가능하면 그것으로 하는 방식이 좋겠다. (처음 생각 -> X)\n",
    "  - 킬로그램의 dp테이블을 생성하면 되겠다라는 생각을 하였다.\n",
    "    - 그 테이블 안에 가장 최적의 개수가 담긴다고 생각을 하였다.\n",
    "\n",
    "- Other idea (`Greedy`)\n",
    "  > Greedy: ___매 순간 가장 좋아보이는 것만을 선택___\n",
    "  - 5kg로 나누었을 때 나누어 떨어진다면 그것이 **최적의 해**.\n",
    "  - 아니라면 값이 작아질 때 까지 3kg로 감소를 반복."
   ]
  },
  {
   "cell_type": "markdown",
   "id": "fae01aa1-73bb-4852-aec5-b39e023980b0",
   "metadata": {
    "jp-MarkdownHeadingCollapsed": true
   },
   "source": [
    "### 내 풀이"
   ]
  },
  {
   "cell_type": "code",
   "execution_count": 157,
   "id": "4abf8f2d-40a4-4140-b79f-c077f1b9956e",
   "metadata": {},
   "outputs": [
    {
     "name": "stdout",
     "output_type": "stream",
     "text": [
      "2\n"
     ]
    }
   ],
   "source": [
    "import sys\n",
    "input = sys.stdin.readline\n",
    "N = int(input())\n",
    "dp = [1e9 for _ in range(N+1)]\n",
    "\n",
    "if N <= 4: # \n",
    "    dp[3] = 1\n",
    "else:\n",
    "    dp[3], dp[5] = 1, 1\n",
    "    \n",
    "for i in range(6,N+1):\n",
    "    dp[i] = min(dp[i-5],dp[i-3]) +1\n",
    "        \n",
    "if dp[N] >= 1e9:\n",
    "    print(-1)\n",
    "else:\n",
    "    print(dp[N])"
   ]
  },
  {
   "cell_type": "markdown",
   "id": "9eb2f7a4-bc7f-47e0-af68-c4247f86f0cc",
   "metadata": {
    "jp-MarkdownHeadingCollapsed": true
   },
   "source": [
    "### 다른 사람 풀이"
   ]
  },
  {
   "cell_type": "code",
   "execution_count": 155,
   "id": "75db6211-c5bf-4bce-a7f2-0549fb1f313d",
   "metadata": {},
   "outputs": [
    {
     "name": "stdout",
     "output_type": "stream",
     "text": [
      "-1\n"
     ]
    }
   ],
   "source": [
    "import sys\n",
    "input = sys.stdin.readline\n",
    "# N = int(input())\n",
    "N = 4\n",
    "result = 0\n",
    "while True:\n",
    "    if N % 5 == 0:\n",
    "        result += (N // 5)\n",
    "        break\n",
    "        \n",
    "    N -= 3\n",
    "    result +=1\n",
    "    \n",
    "    if N < 0:\n",
    "        result = -1\n",
    "        break\n",
    "print(result)"
   ]
  },
  {
   "cell_type": "code",
   "execution_count": null,
   "id": "69ed27c0-7abd-4c4b-9cea-62f530ed0276",
   "metadata": {},
   "outputs": [],
   "source": []
  }
 ],
 "metadata": {
  "kernelspec": {
   "display_name": "Python 3 (ipykernel)",
   "language": "python",
   "name": "python3"
  },
  "language_info": {
   "codemirror_mode": {
    "name": "ipython",
    "version": 3
   },
   "file_extension": ".py",
   "mimetype": "text/x-python",
   "name": "python",
   "nbconvert_exporter": "python",
   "pygments_lexer": "ipython3",
   "version": "3.11.5"
  }
 },
 "nbformat": 4,
 "nbformat_minor": 5
}
