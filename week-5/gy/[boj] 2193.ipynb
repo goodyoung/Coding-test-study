{
 "cells": [
  {
   "cell_type": "markdown",
   "id": "37e92de7-8c28-4961-b6ef-84861f08f60c",
   "metadata": {},
   "source": [
    "# 이친수\n",
    "\n",
    "https://www.acmicpc.net/problem/2193\n",
    "\n",
    "- Solve idea\n",
    "  ```\n",
    "    2: 10\n",
    "    3: 101, 100\n",
    "    4: 1010, 1001, 1000\n",
    "    5: 10101, 10010, 10001, 10001, 10100\n",
    "  ```"
   ]
  },
  {
   "cell_type": "code",
   "execution_count": 38,
   "id": "678a6072-8df1-442c-a75e-f782a6c38ce9",
   "metadata": {},
   "outputs": [
    {
     "name": "stdout",
     "output_type": "stream",
     "text": [
      "5\n"
     ]
    }
   ],
   "source": [
    "import sys\n",
    "input = sys.stdin.readline\n",
    "\n",
    "N = int(input())\n",
    "\n",
    "dp = [0 for _ in range(N+1)]\n",
    "dp[0] = 1\n",
    "dp[1] = 1\n",
    "\n",
    "for i in range(2,N):\n",
    "    dp[i] = dp[i-1] + dp[i-2]\n",
    "print(dp[N-1])"
   ]
  }
 ],
 "metadata": {
  "kernelspec": {
   "display_name": "Python 3 (ipykernel)",
   "language": "python",
   "name": "python3"
  },
  "language_info": {
   "codemirror_mode": {
    "name": "ipython",
    "version": 3
   },
   "file_extension": ".py",
   "mimetype": "text/x-python",
   "name": "python",
   "nbconvert_exporter": "python",
   "pygments_lexer": "ipython3",
   "version": "3.11.5"
  }
 },
 "nbformat": 4,
 "nbformat_minor": 5
}
