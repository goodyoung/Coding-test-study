{
 "cells": [
  {
   "cell_type": "markdown",
   "id": "0ac907dd-8f19-49d3-9229-da78440b2c2c",
   "metadata": {},
   "source": [
    "# 카드 정렬하기\n",
    "\n",
    "https://www.acmicpc.net/problem/1715\n",
    "\n",
    "- Solve idea\n",
    "  - 이 문제는 합칠 때 마다 각각 가장 작은 숫자끼리 더하여 나가면 된다.\n",
    "  - N이 100,000 이므로 O(N^2) 연산은 안된다.\n",
    "  - 따라서 우선순위큐를 사용하여 O(nlogn)으로 하면 될 것 같다."
   ]
  },
  {
   "cell_type": "code",
   "execution_count": null,
   "id": "acb8ce07-f54a-42ee-8040-51377ce4c21d",
   "metadata": {},
   "outputs": [],
   "source": [
    "import sys\n",
    "import heapq\n",
    "input = sys.stdin.readline\n",
    "\n",
    "N = int(input())\n",
    "\n",
    "arr = [int(input()) for _ in range(N)]\n",
    "\n",
    "heapq.heapify(arr)\n",
    "\n",
    "new_arr=[]\n",
    "result = 0\n",
    "while arr:\n",
    "    if len(arr) > 1:\n",
    "        num1 = heapq.heappop(arr)\n",
    "        num2 = heapq.heappop(arr)\n",
    "        num_sum = num1 + num2\n",
    "        result += num_sum \n",
    "        heapq.heappush(arr,num_sum)\n",
    "    else:\n",
    "        num = heapq.heappop(arr)\n",
    "        break\n",
    "\n",
    "print(result)"
   ]
  }
 ],
 "metadata": {
  "kernelspec": {
   "display_name": "Python 3 (ipykernel)",
   "language": "python",
   "name": "python3"
  },
  "language_info": {
   "codemirror_mode": {
    "name": "ipython",
    "version": 3
   },
   "file_extension": ".py",
   "mimetype": "text/x-python",
   "name": "python",
   "nbconvert_exporter": "python",
   "pygments_lexer": "ipython3",
   "version": "3.11.5"
  }
 },
 "nbformat": 4,
 "nbformat_minor": 5
}
