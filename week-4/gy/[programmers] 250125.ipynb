{
 "cells": [
  {
   "cell_type": "markdown",
   "id": "f1d59559-0876-4a71-b231-cb17d38b6eb2",
   "metadata": {},
   "source": [
    "# [PCCE 기출문제] 9번 / 이웃한 칸\n",
    "\n",
    "https://school.programmers.co.kr/learn/courses/30/lessons/250125\n",
    "\n",
    "- Solve idea\n",
    "  - 일반 dfs/bfs에서 기본 틀 만 작성하면 되는 문제이다"
   ]
  },
  {
   "cell_type": "code",
   "execution_count": null,
   "id": "c408c0c3-b913-4504-80be-40d1ee480736",
   "metadata": {},
   "outputs": [],
   "source": [
    "def solution(board, h, w):\n",
    "    N = len(board)\n",
    "    answer = 0\n",
    "    dh, dw = [0, 1, -1, 0], [1, 0, 0, -1]\n",
    "    for i in range(4):\n",
    "        ih = h+dh[i]\n",
    "        iw = w+dw[i]\n",
    "        if 0<= ih < N and 0<= iw < N and board[ih][iw] == board[h][w]:\n",
    "            answer += 1\n",
    "    return answer"
   ]
  }
 ],
 "metadata": {
  "kernelspec": {
   "display_name": "Python 3 (ipykernel)",
   "language": "python",
   "name": "python3"
  },
  "language_info": {
   "codemirror_mode": {
    "name": "ipython",
    "version": 3
   },
   "file_extension": ".py",
   "mimetype": "text/x-python",
   "name": "python",
   "nbconvert_exporter": "python",
   "pygments_lexer": "ipython3",
   "version": "3.11.5"
  }
 },
 "nbformat": 4,
 "nbformat_minor": 5
}
