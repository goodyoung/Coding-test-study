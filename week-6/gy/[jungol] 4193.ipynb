{
 "cells": [
  {
   "cell_type": "markdown",
   "id": "be6898df-ee57-4392-8045-30ff10958ea1",
   "metadata": {},
   "source": [
    "# 애벌레 키우기\n",
    "\n",
    "https://jungol.co.kr/problem/4193\n",
    "\n",
    "- Solve idea\n",
    "  - 벽이나 자기 자신을 부딪히면 게임이 종료된다.\n",
    "  - 자기 자신을 나타내는 list가 필요 할 것 같다. 이것을 계속 갱신이 필요 -> 2로 업데이트\n",
    "  - tail 방향을 나타내는 변수를 추가하고, 꺾는 부분을 저장하는 곳도 추가했다.\n",
    "  - 벽이 보드게임 끝이겠지?"
   ]
  },
  {
   "cell_type": "code",
   "execution_count": null,
   "id": "8e30147b-2c4b-403e-8cec-1145395680d0",
   "metadata": {},
   "outputs": [],
   "source": [
    "import sys\n",
    "input = sys.stdin.readline\n",
    "\n",
    "N = int(input()) # 보드게임 사이즈\n",
    "M = int(input()) # 사과껍질 개수\n",
    "arr = [[0]*N for _ in range(N)] # 보드게임\n",
    "\n",
    "for _ in range(M):\n",
    "    a,b = map(int, input().split())\n",
    "    arr[a-1][b-1] = 1 # 1이 사과 껍질\n",
    "    \n",
    "# 방향 전환 \n",
    "D = int(input())\n",
    "times = {}\n",
    "for _ in range(D):\n",
    "    time, C = input().split()\n",
    "    times[int(time)] = C\n",
    "\n",
    "head_x, head_y, tail_x, tail_y = 0,0,0,0\n",
    "arr[head_x][head_y] = 2\n",
    "\n",
    "break_point = []\n",
    "dx, dy = 0, 1 # head 방향\n",
    "dx_, dy_ = 0, 1 # tail 방향\n",
    "T = 0\n",
    "while True:\n",
    "    T += 1 # 1초 이동\n",
    "    # 매초마다 이동\n",
    "    head_x, head_y = head_x + dx, head_y + dy # 애벌레 머리 이동\n",
    "    \n",
    "    # 벽이나 자기 자신을 부딪히는지 확인 -> 종료\n",
    "    if 0<= head_x < N and 0<= head_y < N and arr[head_x][head_y] != 2:\n",
    "        if arr[head_x][head_y] != 1:  # 이동하는 칸에 사과껍질이 없는 경우\n",
    "            arr[tail_x][tail_y] = 0 # 꼬리가 위치한 칸 비워주기\n",
    "            if len(break_point): # 꺾는 지점이 있다면\n",
    "                for i in range(len(break_point)):\n",
    "                    h_x, h_y, temp_x, temp_y = break_point[i]\n",
    "                    if tail_x == h_x and tail_y == h_y: # head가 꺾었던 지점이라면 tail도 꺾어야 한다.\n",
    "                        dx_, dy_ = temp_x, temp_y # tail 방향 변환\n",
    "                        break\n",
    "            tail_x, tail_y = tail_x + dx_, tail_y + dy_\n",
    "        arr[head_x][head_y] = 2 # 머리 이동\n",
    "        \n",
    "        # 해당 초가 끝났을 때 방향 전환을 해야한다면\n",
    "        if T in times:\n",
    "            if times[T] == 'L': # 0,1 -> -1, 0 -> 0,-1 -> 1, 0\n",
    "                dx,dy = -dy,dx\n",
    "            else: # 0,1 -> 1,0 -> 0,-1 -> -1,0\n",
    "                dx,dy = dy,-dx\n",
    "            break_point.append((head_x,head_y,dx,dy))\n",
    "    else:\n",
    "        print(T)\n",
    "        break"
   ]
  }
 ],
 "metadata": {
  "kernelspec": {
   "display_name": "Python 3 (ipykernel)",
   "language": "python",
   "name": "python3"
  },
  "language_info": {
   "codemirror_mode": {
    "name": "ipython",
    "version": 3
   },
   "file_extension": ".py",
   "mimetype": "text/x-python",
   "name": "python",
   "nbconvert_exporter": "python",
   "pygments_lexer": "ipython3",
   "version": "3.11.5"
  }
 },
 "nbformat": 4,
 "nbformat_minor": 5
}
