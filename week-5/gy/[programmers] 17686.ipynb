{
 "cells": [
  {
   "cell_type": "markdown",
   "id": "a27611a9-450e-4fb7-b902-0582277b00ac",
   "metadata": {},
   "source": [
    "# 파일명 정렬\n",
    "\n",
    "https://school.programmers.co.kr/learn/courses/30/lessons/17686\n",
    "\n",
    "- Solve idea\n",
    "  - HEAD, NUMBER, TAIL을 나눠서 sort하는 것이 point인 것 같다.\n",
    "  - 또한 0001과 1을 같게 하기 위해 int로 씌워서 같게 한다."
   ]
  },
  {
   "cell_type": "code",
   "execution_count": 23,
   "id": "83e63732-08ab-42ca-8253-b7341d8caa62",
   "metadata": {},
   "outputs": [
    {
     "data": {
      "text/plain": [
       "[('img', '1', '.png'),\n",
       " ('IMG', '01', '.GIF'),\n",
       " ('img', '02', '.png'),\n",
       " ('img', '2', '.JPG'),\n",
       " ('img', '10', '.png'),\n",
       " ('img', '12', '.png')]"
      ]
     },
     "execution_count": 23,
     "metadata": {},
     "output_type": "execute_result"
    }
   ],
   "source": [
    "def solution(files):\n",
    "    answer = []\n",
    "    N = len(files)\n",
    "    for file in files:\n",
    "        HEAD, NUMBER, TAIL = '','',''\n",
    "        flag = True\n",
    "        for i in range(len(file)):\n",
    "            if file[i].isdigit():\n",
    "                NUMBER += file[i]\n",
    "                flag = False\n",
    "            elif flag:\n",
    "                HEAD += file[i]\n",
    "            else: # 처음 나오지도 않고, 숫자도 지남\n",
    "                TAIL += file[i:]\n",
    "                break\n",
    "        answer.append((HEAD,NUMBER,TAIL))\n",
    "    answer = sorted(answer,key=lambda x: (x[0].lower(),int(x[1])))\n",
    "    \n",
    "            \n",
    "    return [''.join(ans) for ans in answer]"
   ]
  },
  {
   "cell_type": "code",
   "execution_count": null,
   "id": "f0b1bb22-b95e-43af-bb39-a19904048fd0",
   "metadata": {},
   "outputs": [],
   "source": []
  }
 ],
 "metadata": {
  "kernelspec": {
   "display_name": "Python 3 (ipykernel)",
   "language": "python",
   "name": "python3"
  },
  "language_info": {
   "codemirror_mode": {
    "name": "ipython",
    "version": 3
   },
   "file_extension": ".py",
   "mimetype": "text/x-python",
   "name": "python",
   "nbconvert_exporter": "python",
   "pygments_lexer": "ipython3",
   "version": "3.11.5"
  }
 },
 "nbformat": 4,
 "nbformat_minor": 5
}
