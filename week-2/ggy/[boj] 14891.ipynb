{
 "cells": [
  {
   "cell_type": "markdown",
   "id": "604dd18b-334e-405a-a02a-0bd21cc4cf64",
   "metadata": {},
   "source": [
    "# 톱니바퀴\n",
    "\n",
    "https://www.acmicpc.net/problem/14891\n",
    "\n",
    "- Solve idea\n",
    "  - input의 개수가 적으므로 주어진 조건에 따라 다 구현하면 되는 문제이다.\n",
    "    - [조건]: 톱니바퀴 B와 서로 맞닿은 톱니의 극이 다르다면, B는 A가 회전한 방향과 반대방향으로 회전\n",
    "    - 서로 맞닿은 극이 다른 것이 각 경우마다 정해져 있다. 이것을 먼저 구하는 함수 구현 (X)\n",
    "    - 반시계, 시계 방향으로 회전 시키는 함수 구현 (O)\n",
    "    - 연쇄 작용을 어떻게 구현하지? --> **재귀 함수**로.\n",
    "    - 다 한 후 점수를 계산\n",
    "        - 1번 톱니바퀴의 12시방향이 N극이면 0점, S극이면 1점\n",
    "        - 2번 톱니바퀴의 12시방향이 N극이면 0점, S극이면 2점\n",
    "        - 3번 톱니바퀴의 12시방향이 N극이면 0점, S극이면 4점\n",
    "        - 4번 톱니바퀴의 12시방향이 N극이면 0점, S극이면 8점\n",
    "\n",
    "- Comment\n",
    "  - 뭔가 톱니바퀴의 연쇄 작용을 구현하려면 재귀 함수나 while 같은 요소가 필요할 것 같아서 정답을 찾아 보니 left, right재귀 함수의 형태를 띄고 있었다.\n",
    "  - **나중에도 왼,오 나오는 이런 연쇄 작용 문제는 재귀 함수로 구현하는 것이 좋겠다.**\n",
    "    - left, right, rotate 하는 순서도 헷갈렸다.\n",
    "  - 그 외엔 코드는 정말 근본 구현 문제 같았다."
   ]
  },
  {
   "cell_type": "code",
   "execution_count": 53,
   "id": "a3fbb0ff-a500-41ef-a8cb-3b6fc62809f1",
   "metadata": {},
   "outputs": [
    {
     "name": "stdout",
     "output_type": "stream",
     "text": [
      "2\n",
      "1\n",
      "0\n",
      "7\n"
     ]
    }
   ],
   "source": [
    "import sys\n",
    "input = sys.stdin.readline\n",
    "wheel = [list(input().rstrip()) for _ in range(4)] # N극: 0 , S극: 1\n",
    "K = int(input())\n",
    "arrs = [list(map(int,input().split())) for _ in range(K)] # 톱니바퀴 번호, 방향(1: 시계방향, -1: 반시계)\n",
    "\n",
    "def rotate(num,d):\n",
    "    new_arr = [0]*8\n",
    "    for i in range(8):\n",
    "        if d==-1: # 반시계\n",
    "            if i == 0:\n",
    "                new_arr[-1] = wheel[num][i]\n",
    "            else:\n",
    "                new_arr[i-1] = wheel[num][i]\n",
    "        else:\n",
    "            if i == 7:\n",
    "                new_arr[0] = wheel[num][i]\n",
    "            else:\n",
    "                new_arr[i+1] = wheel[num][i]\n",
    "    wheel[num] = new_arr\n",
    "    \n",
    "def right(num,d):\n",
    "    if num < 3:\n",
    "        if wheel[num][touch1] != wheel[num+1][touch2]:\n",
    "            d = d*(-1)\n",
    "            right(num+1,d)\n",
    "            rotate(num+1, d) # 다음 바퀴를 돌린다.\n",
    "        \n",
    "def left(num,d):\n",
    "    if num > 0:\n",
    "        if wheel[num][touch2] != wheel[num-1][touch1]:\n",
    "            # num-1: 다음 톱니 바퀴를 돌리자\n",
    "            d = d*(-1)\n",
    "            left(num-1,d)\n",
    "            rotate(num-1, d) # 회전하기\n",
    "    \n",
    "\n",
    "touch1,touch2 = 2,6\n",
    "\n",
    "for num, dir in arrs: # 톱니바퀴 번호, 방향(1: 시계방향, -1: 반시계)\n",
    "    left(num-1,dir)\n",
    "    right(num-1,dir)\n",
    "    rotate(num-1, dir)\n",
    "    \n",
    "result = 0\n",
    "score = 8\n",
    "for i in range(3,-1,-1):\n",
    "    if wheel[i][0] == '1':\n",
    "        result += int(score)\n",
    "    score *= 0.5\n",
    "print(result)"
   ]
  }
 ],
 "metadata": {
  "kernelspec": {
   "display_name": "Python 3 (ipykernel)",
   "language": "python",
   "name": "python3"
  },
  "language_info": {
   "codemirror_mode": {
    "name": "ipython",
    "version": 3
   },
   "file_extension": ".py",
   "mimetype": "text/x-python",
   "name": "python",
   "nbconvert_exporter": "python",
   "pygments_lexer": "ipython3",
   "version": "3.11.5"
  }
 },
 "nbformat": 4,
 "nbformat_minor": 5
}
