{
 "cells": [
  {
   "cell_type": "markdown",
   "id": "fc3cd46f-0ff8-4bc7-aa98-5976ec2bb0e9",
   "metadata": {},
   "source": [
    "# 좋은 단어\n",
    "\n",
    "https://www.acmicpc.net/problem/3986\n",
    "\n",
    "- Solve idea\n",
    "  - 같은 게 2개 나오던가, a-b-b , b-a-a, 이던가\n",
    "  - 빈 리스트에 넣고 같은게 나오면 두개를 pop만 하고 계산 결과 빈 리스트이면 좋은 단어이고 비어있지 않는다면 나쁜 단어이다."
   ]
  },
  {
   "cell_type": "markdown",
   "id": "1f8c62f7-e3fa-4d76-83f6-0f526d3a6910",
   "metadata": {},
   "source": [
    "### 뒤에서 부터 하는 방법"
   ]
  },
  {
   "cell_type": "code",
   "execution_count": 1,
   "id": "15cd5c8e-84a3-4837-a4a8-88e2c90a898c",
   "metadata": {},
   "outputs": [],
   "source": [
    "import sys\n",
    "input = sys.stdin.readline\n",
    "N = int(input())\n",
    "result = 0\n",
    "\n",
    "for _ in range(N):\n",
    "    letter = []\n",
    "    words = list(input().rstrip())\n",
    "    while words:\n",
    "        word = words.pop() # 단어 하나 뽑기\n",
    "        if letter and word == letter[-1]: # 연속 같은 단어 이면\n",
    "            letter.pop()\n",
    "            continue\n",
    "        letter.append(word) # 아니면 그냥 넣기\n",
    "        \n",
    "    if not letter: # 리스트가 비어있다면 -> 좋은 단어\n",
    "        result += 1\n",
    "\n",
    "print(result)"
   ]
  },
  {
   "cell_type": "markdown",
   "id": "3f1a7963-5f99-4c92-b690-a6c2a7007248",
   "metadata": {},
   "source": [
    "### 앞에서부터 해도 된다.\n",
    "좀 더 빠름"
   ]
  },
  {
   "cell_type": "code",
   "execution_count": null,
   "id": "f5b5febf-b989-4d21-93d3-ddc660bbbe1d",
   "metadata": {},
   "outputs": [],
   "source": [
    "import sys\n",
    "input = sys.stdin.readline\n",
    "N = int(input())\n",
    "result = 0\n",
    "\n",
    "for _ in range(N):\n",
    "    letter = []\n",
    "    words = input().rstrip()\n",
    "    for word in words:\n",
    "        if letter and word == letter[-1]: # 연속 같은 단어 이면\n",
    "            letter.pop()\n",
    "            continue\n",
    "        letter.append(word) # 아니면 그냥 넣기        \n",
    "        \n",
    "    if not letter: # 리스트가 비어있다면 -> 좋은 단어\n",
    "        result += 1\n",
    "\n",
    "print(result)"
   ]
  }
 ],
 "metadata": {
  "kernelspec": {
   "display_name": "Python 3 (ipykernel)",
   "language": "python",
   "name": "python3"
  },
  "language_info": {
   "codemirror_mode": {
    "name": "ipython",
    "version": 3
   },
   "file_extension": ".py",
   "mimetype": "text/x-python",
   "name": "python",
   "nbconvert_exporter": "python",
   "pygments_lexer": "ipython3",
   "version": "3.11.5"
  }
 },
 "nbformat": 4,
 "nbformat_minor": 5
}
