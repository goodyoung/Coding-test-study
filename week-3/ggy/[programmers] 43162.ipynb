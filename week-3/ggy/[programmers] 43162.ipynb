{
 "cells": [
  {
   "cell_type": "markdown",
   "id": "9ec74a9a-32c2-4cb7-829e-0bc18e99c0ec",
   "metadata": {},
   "source": [
    "# 네트워크\n",
    "\n",
    "https://school.programmers.co.kr/learn/courses/30/lessons/43162\n",
    "\n",
    "- Solve idea\n",
    "  - 연결된 노드에 깊이 우선 탐색(dfs)을 사용하면 될 것 같았다. dfs 한 번당 네트워크 한 번이라고 생각함."
   ]
  },
  {
   "cell_type": "code",
   "execution_count": null,
   "id": "456eff78-bbcb-41e9-a601-936c814a9fb7",
   "metadata": {},
   "outputs": [],
   "source": [
    "def dfs(i,j,n,computers):\n",
    "    for k in range(n):\n",
    "        if computers[j][k]:\n",
    "            computers[j][k] = 0\n",
    "            computers[k][j] = 0\n",
    "            dfs(j,k,n,computers)\n",
    "\n",
    "def solution(n, computers):\n",
    "    cnt = 0\n",
    "    for i in range(n):\n",
    "        for j in range(n):\n",
    "            if computers[i][j]:\n",
    "                computers[i][j] = 0\n",
    "                computers[j][i] = 0\n",
    "                dfs(i,j,n,computers)\n",
    "                cnt += 1\n",
    "    return cnt"
   ]
  }
 ],
 "metadata": {
  "kernelspec": {
   "display_name": "Python 3 (ipykernel)",
   "language": "python",
   "name": "python3"
  },
  "language_info": {
   "codemirror_mode": {
    "name": "ipython",
    "version": 3
   },
   "file_extension": ".py",
   "mimetype": "text/x-python",
   "name": "python",
   "nbconvert_exporter": "python",
   "pygments_lexer": "ipython3",
   "version": "3.11.5"
  }
 },
 "nbformat": 4,
 "nbformat_minor": 5
}
