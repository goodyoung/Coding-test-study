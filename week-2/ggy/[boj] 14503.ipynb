{
 "cells": [
  {
   "cell_type": "markdown",
   "id": "325300ee-9945-4464-bcb7-fb8cbe080074",
   "metadata": {},
   "source": [
    "# 로봇 청소기\n",
    "\n",
    "https://www.acmicpc.net/problem/14503\n",
    "\n",
    "- Solve idea\n",
    "  - 문제에 나와있는 과정 대로 코딩을 해본다\n",
    "1. 현재 칸이 아직 청소되지 않은 경우, 현재 칸을 청소한다.\n",
    "2. 현재 칸의 주변 칸 중 청소되지 않은 빈 칸이 없는 경우,\n",
    "    - 바라보는 방향을 유지한 채로 한 칸 후진할 수 있다면 한 칸 후진하고 1번으로 돌아간다.\n",
    "    - 바라보는 방향의 뒤쪽 칸이 벽이라 후진할 수 없다면 작동을 멈춘다.\n",
    "3. 현재 칸의 주변 칸 중 청소되지 않은 빈 칸이 있는 경우,\n",
    "    - 반시계 방향으로 90도 회전한다.\n",
    "    - 바라보는 방향을 기준으로 앞쪽 칸이 청소되지 않은 빈 칸인 경우 한 칸 전진한다.\n",
    "    - 1번으로 돌아간다.\n",
    "\n",
    "천천히 구현하다보면 답이 나온다. <br>\n",
    "**벽이랑 청소되지 않은 곳이랑은 다르다는 사실도 잊지말고 구현을 해야한다.**"
   ]
  },
  {
   "cell_type": "code",
   "execution_count": 19,
   "id": "8af9ea74-fcbe-4d38-9fb7-b8362c4adedc",
   "metadata": {},
   "outputs": [
    {
     "name": "stdout",
     "output_type": "stream",
     "text": [
      "57\n"
     ]
    }
   ],
   "source": [
    "import sys\n",
    "input = sys.stdin.readline\n",
    "N, M = map(int, input().split())\n",
    "r,c,d = map(int, input().split()) # [d가 0인 경우 북쪽, 1인 경우 동쪽, 2인 경우 남쪽, 3인 경우 서쪽]\n",
    "arr = [list(map(int, input().split())) for _ in range(N)]\n",
    "dx = [(-1,0), (0,1), (1,0), (0,-1)] # 북 동 남 서 (d의 idx에 맞게)\n",
    "cnt = 0\n",
    "def is_blank(r,c):\n",
    "    for r_, c_ in dx:\n",
    "        if not arr[r+r_][c+c_]: # 주변 칸 중 한 칸이라도 청소되지 않았다면\n",
    "            return 1\n",
    "    return 0\n",
    "            \n",
    "while True:\n",
    "    if not arr[r][c]: # step 1. 청소되지 않은 경우 청소\n",
    "        cnt += 1\n",
    "        arr[r][c] = 2\n",
    "    if not is_blank(r,c): # step 2. 빈 칸이 없는 경우\n",
    "        a,b = dx[d] # 바라보는 방향\n",
    "        a,b = a*(-1), b*(-1) # 바라 보는 방향을 유지한 채로 후진 이라면: 동을 바라보고 후진 => 서로 가는 것이다. 남을 바라보고 후진 ->북으로 가는 것.\n",
    "        x, y = r+a, c+b\n",
    "        if arr[x][y]==2:#0< x < N-1 and 0< y< M-1: # step 2-1. 후진할 수 있는 경우 => 벽이 아닐 경우\n",
    "            r, c = x, y # 한 칸 후진\n",
    "            continue # 1번 돌아감\n",
    "        else:  # step 2-2. 후진할 수 없는 경우 -> 벽일 경우\n",
    "            print(cnt)\n",
    "            break # 작동을 멈춤\n",
    "            \n",
    "    else: # step 3. 빈 칸이 있는 경우\n",
    "        # step 3-1. 반시계 회전 -> 동 -> 북 -> 서 -> 남  => d에 -1\n",
    "        if not d: # 0이면\n",
    "            d = 3\n",
    "        else:\n",
    "            d -= 1\n",
    "        \n",
    "        a,b = dx[d]\n",
    "        x, y = r+a, c+b\n",
    "        if not arr[x][y]: # step 3-1. 청소되지 않은 빈칸일 경우\n",
    "            r,c = x, y # 한 칸 전진"
   ]
  }
 ],
 "metadata": {
  "kernelspec": {
   "display_name": "Python 3 (ipykernel)",
   "language": "python",
   "name": "python3"
  },
  "language_info": {
   "codemirror_mode": {
    "name": "ipython",
    "version": 3
   },
   "file_extension": ".py",
   "mimetype": "text/x-python",
   "name": "python",
   "nbconvert_exporter": "python",
   "pygments_lexer": "ipython3",
   "version": "3.11.5"
  }
 },
 "nbformat": 4,
 "nbformat_minor": 5
}
